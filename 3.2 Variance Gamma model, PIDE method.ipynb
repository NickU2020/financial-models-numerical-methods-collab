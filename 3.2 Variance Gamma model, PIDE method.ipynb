{
 "cells": [
  {
   "cell_type": "markdown",
   "metadata": {},
   "source": [
    "# The Variance Gamma Partial Integro-Differential Equation\n",
    "\n",
    "## Contents\n",
    "   - [The VG PIDE](#sec1)\n",
    "   - [Numerical solution of the PIDE](#sec2)\n",
    "   - [Comparison with Monte Carlo, closed formula and Fourier inversion](#sec3)\n",
    "   - [Comparison with the Black Scholes PDE](#sec4)  \n",
    "\n",
    "I suggest the reader to read the notebook **3.1** on the Merton PIDE, and the Appendix **A3** for an introduction to the Variance Gamma (VG) process.\n",
    "\n",
    "The knowledge of the VG process, is not necessary to understand this notebook, which is focused on the numerical solution of a PIDE.    \n",
    "In my opinion the [wiki](https://en.wikipedia.org/wiki/Variance_gamma_process) page is not that clear, and if the reader is interested to understand something more, I suggest to have a look at the notebooks **1.5** and **A3**.\n",
    "\n",
    "Now I'm going to present an approximated equation, whose solution converges to the solution of the original VG equation for $\\epsilon \\to 0$.    The reason for using an approximation, is that the Lévy measure is singular in the origin.\n",
    "Therefore, we have to remove the singularity from the integration region.  "
   ]
  },
  {
   "cell_type": "markdown",
   "metadata": {},
   "source": [
    "<a id='sec1'></a>\n",
    "## The VG PIDE   \n",
    "\n",
    "The approximated VG PIDE has the following form:    \n",
    "\n",
    "$$\n",
    "  \\frac{\\partial V(t,x)}{\\partial t} +\n",
    " \\bigl( r-\\frac{1}{2}\\sigma_{\\epsilon}^2 - w_{\\epsilon} \\bigr) \\frac{\\partial V(t,x)}{\\partial x} \n",
    " + \\frac{1}{2}\\sigma_{\\epsilon}^2 \\frac{\\partial^2 V(t,x)}{\\partial x^2}\n",
    " + \\int_{|z| \\geq \\epsilon} V(t,x+z) \\nu(dz) = (\\lambda_{\\epsilon} + r) V(t,x).\n",
    "$$\n",
    "\n",
    "with parameters   \n",
    "\n",
    "$$\n",
    "  \\sigma_{\\epsilon}^2 :=  \\int_{|z| < \\epsilon} z^2 \\nu(dz), \\quad \\quad w_{\\epsilon} := \\int_{|z| \\geq \\epsilon} (e^z-1) \\nu(dz), \\quad \\quad\n",
    " \\lambda_{\\epsilon} :=  \\int_{|z| \\geq \\epsilon} \\nu(dz) .\n",
    "$$\n",
    "\n",
    "and Lévy measure:   \n",
    "\n",
    "$$\n",
    " \\nu(dz) = \\frac{e^{\\frac{\\theta z}{\\sigma^2}}}{\\kappa|z|} \\exp \n",
    " \\left( - \\frac{\\sqrt{\\frac{2}{\\kappa} + \\frac{\\theta^2}{\\sigma^2}}}{\\sigma} |z|\\right) dz,\n",
    "$$\n",
    "\n",
    "where I used the parametrization coming from the Brownian subordination. See equation [35] in **A3** or [wiki subordinator](https://en.wikipedia.org/wiki/Subordinator_(mathematics)).    \n",
    "If you are reading quickly, and you have no time to study the Brownian subordination, just think of $\\theta$, $\\sigma$ and $\\kappa$ as the three parameters of the model.\n",
    "\n",
    "As I said before, the Lévy measure has a singularity at $z=0$.    \n",
    "\n",
    "The activity of the VG process is infinite, i.e. $\\lambda = \\int_{-\\infty}^{\\infty} \\nu(z) = \\infty$. Since the interval $-\\epsilon < z < \\epsilon$ is removed from the region of integration, all the parameters defined above are finite! "
   ]
  },
  {
   "cell_type": "markdown",
   "metadata": {},
   "source": [
    "This equation is almost identical to the Merton PIDE, except for the truncation in the integral.\n",
    "\n",
    "At this point, we can restrict the computational domain on $[A_1,A_2]$ and the integral region on $[-B_1,B_2]$, following the idea presented in **3.1**.   \n",
    "\n",
    "Using the same discretization used for the Merton PIDE, we can solve the problem with the IMEX scheme.\n",
    "\n",
    "I will not re-write the discrete equation. Everything will be clear (hopefully) from the following python code:"
   ]
  },
  {
   "cell_type": "markdown",
   "metadata": {},
   "source": [
    "<a id='sec2'></a>\n",
    "## Numerical solution of the PIDE"
   ]
  },
  {
   "cell_type": "code",
   "execution_count": 1,
   "metadata": {},
   "outputs": [],
   "source": [
    "from scipy import sparse\n",
    "from scipy.sparse.linalg import splu\n",
    "\n",
    "import numpy as np\n",
    "import scipy as scp\n",
    "import scipy.stats as ss\n",
    "from IPython.display import display\n",
    "import sympy; sympy.init_printing()\n",
    "from scipy import signal\n",
    "from scipy.integrate import quad\n",
    "import matplotlib.pyplot as plt\n",
    "\n",
    "def display_matrix(m):\n",
    "    display(sympy.Matrix(m))"
   ]
  },
  {
   "cell_type": "code",
   "execution_count": 2,
   "metadata": {},
   "outputs": [],
   "source": [
    "r = 0.1                                         # risk free rate\n",
    "theta = -0.1; sigma = 0.2; kappa = 0.3          # VG parameters \n",
    "\n",
    "W = - np.log(1 - theta * kappa - kappa/2 * sigma**2 ) /kappa    # martingale correction w\n",
    "\n",
    "dev_X = np.sqrt(sigma**2 + theta**2 * kappa)     # std dev VG process\n",
    "\n",
    "S0 = 100; X0 = np.log(S0)          # stock, log-price\n",
    "K = 100; Texpir = 1                # strike and maturity\n",
    "\n",
    "Nspace = 7                         # space steps \n",
    "Ntime = 3                          # time steps   \n",
    "S_max = 3*float(K)                \n",
    "S_min = float(K)/3\n",
    "x_max = np.log(S_max)  # A2\n",
    "x_min = np.log(S_min)  # A1\n",
    "\n",
    "dx = (x_max - x_min)/(Nspace-1)\n",
    "extraP = int(np.floor(3*dev_X/dx))    # extra points\n",
    "x = np.linspace(x_min-extraP*dx, x_max+extraP*dx, Nspace + 2*extraP)   # space discretization\n",
    "T, dt = np.linspace(0, Texpir, Ntime, retstep=True)                    # time discretization"
   ]
  },
  {
   "cell_type": "markdown",
   "metadata": {},
   "source": [
    "In **A3** we defined the \"martingale correction\" term:\n",
    "\n",
    "$$\n",
    " w := \\int_{\\mathbb{R}} (e^z-1) \\nu(dz) = - \\frac{1}{\\kappa} \\log \\left( 1-\\theta \\kappa -\\frac{1}{2}\\bar\\sigma^2 \\kappa \\right).\n",
    "$$\n",
    "\n",
    "In the previous cell I defined $w$ (called `W`) just to compare it with $w_{\\epsilon}$.  We expect that $w_{\\epsilon} \\to w$ as \n",
    "$\\epsilon \\to 0$.\n",
    "\n",
    "Following Section 2.3 of **A.3**, I introduce the auxiliary parameters A and B.    \n",
    "They will make the Lévy measure definition more readable."
   ]
  },
  {
   "cell_type": "code",
   "execution_count": 3,
   "metadata": {},
   "outputs": [],
   "source": [
    "A = theta/(sigma**2)\n",
    "B = np.sqrt( theta**2 + 2*sigma**2/kappa ) / sigma**2\n",
    "\n",
    "levy_m = lambda y: np.exp( A*y - B*np.abs(y) ) / (kappa*np.abs(y))   # Levy measure VG"
   ]
  },
  {
   "cell_type": "markdown",
   "metadata": {},
   "source": [
    "The extra points are obtained by `extraP = int(np.floor(3*dev_X/dx))`, where `dev_X` is the standard deviation of the VG process. The choice of 3 stardard deviation is arbitrary, and in the pricer class this number is different (it is 5).\n",
    "\n",
    "The extra points are the points in the intervals $[A_1 - B_1, A_1]$ and $[A_2, A_2 + B_2]$.   \n",
    "In this case we have:"
   ]
  },
  {
   "cell_type": "code",
   "execution_count": 4,
   "metadata": {},
   "outputs": [
    {
     "name": "stdout",
     "output_type": "stream",
     "text": [
      "Under this discretization there are 1 extra points\n"
     ]
    }
   ],
   "source": [
    "print(\"Under this discretization there are {} extra points\".format(extraP))"
   ]
  },
  {
   "cell_type": "code",
   "execution_count": 5,
   "metadata": {},
   "outputs": [
    {
     "data": {
      "text/latex": [
       "$\\displaystyle \\left[\\begin{matrix}0.0 & 0.0 & 0.0\\\\0.0 & 0.0 & 0.0\\\\0.0 & 0.0 & 0.0\\\\0.0 & 0.0 & 0.0\\\\0.0 & 0.0 & 0.0\\\\0.0 & 0.0 & 44.22\\\\0.0 & 0.0 & 108.01\\\\209.52 & 204.88 & 200.0\\\\342.19 & 337.55 & 332.67\\end{matrix}\\right]$"
      ],
      "text/plain": [
       "⎡ 0.0     0.0     0.0  ⎤\n",
       "⎢                      ⎥\n",
       "⎢ 0.0     0.0     0.0  ⎥\n",
       "⎢                      ⎥\n",
       "⎢ 0.0     0.0     0.0  ⎥\n",
       "⎢                      ⎥\n",
       "⎢ 0.0     0.0     0.0  ⎥\n",
       "⎢                      ⎥\n",
       "⎢ 0.0     0.0     0.0  ⎥\n",
       "⎢                      ⎥\n",
       "⎢ 0.0     0.0    44.22 ⎥\n",
       "⎢                      ⎥\n",
       "⎢ 0.0     0.0    108.01⎥\n",
       "⎢                      ⎥\n",
       "⎢209.52  204.88  200.0 ⎥\n",
       "⎢                      ⎥\n",
       "⎣342.19  337.55  332.67⎦"
      ]
     },
     "metadata": {},
     "output_type": "display_data"
    }
   ],
   "source": [
    "Payoff = np.maximum(np.exp(x)-K,0)             # Call payoff\n",
    "V = np.zeros((Nspace + 2*extraP, Ntime))       # grid initialization\n",
    "offset = np.zeros(Nspace-2)        # vector to be used for the boundary terms\n",
    "\n",
    "V[:,-1] = Payoff                   # terminal conditions \n",
    "V[-extraP-1:,:] = np.exp(x[-extraP-1:]).reshape(extraP+1,1) * np.ones((extraP+1,Ntime)) - \\\n",
    "                 K * np.exp(-r* T[::-1] ) * np.ones((extraP+1,Ntime))  # boundary condition\n",
    "V[:extraP+1,:] = 0\n",
    "\n",
    "display_matrix(V.round(2))"
   ]
  },
  {
   "cell_type": "markdown",
   "metadata": {},
   "source": [
    "Let us define the cutoff term $\\epsilon$ and the relevant parameters.\n",
    "\n",
    "Note:  The integrals are performed using the function `quad`. The integrals are split in the two regions: \n",
    "$[-B_1, -\\epsilon]$ and $[\\epsilon, B_2]$"
   ]
  },
  {
   "cell_type": "code",
   "execution_count": 6,
   "metadata": {},
   "outputs": [],
   "source": [
    "eps = 1.5*dx    # the cutoff near 0\n",
    "\n",
    "lam = quad(levy_m,-(extraP+1.5)*dx,-eps)[0] \\\n",
    "        + quad(levy_m,eps,(extraP+1.5)*dx)[0]       # approximated intensity lambda\n",
    "\n",
    "int_w = lambda y: (np.exp(y)-1) * levy_m(y)                        # integrand of w_eps\n",
    "int_s = lambda y: np.abs(y) * np.exp( A*y - B*np.abs(y) ) / kappa  # integrand of sigma_eps \n",
    "                                                                   # avoid division by zero\n",
    "\n",
    "w = quad(int_w, -(extraP+1.5)*dx, -eps)[0] \\\n",
    "       + quad(int_w, eps, (extraP+1.5)*dx)[0]    #   w_eps\n",
    "\n",
    "sig2 = quad(int_s,-eps,eps)[0]                   # the small jumps variance\n",
    "sigJ = quad(int_s, -(extraP+1.5)*dx, -eps)[0] \\\n",
    "       + quad(int_s, eps, (extraP+1.5)*dx)[0]    # big jumps variance"
   ]
  },
  {
   "cell_type": "markdown",
   "metadata": {},
   "source": [
    "Since we computed $\\sigma_{\\epsilon}^2 :=  \\int_{|z| < \\epsilon} z^2 \\nu(dz)$ we can compute also $\\sigma_J^2 = \\int_{|z| \\geq \\epsilon} z^2 \\nu(dz) $.    \n",
    "We expect that $\\sigma_{\\epsilon}^2 + \\sigma_J^2 = \\text{dev_X}^2$.  \n",
    "Due to the limitation of the integral in $[-B_1,B_2]$, the two are not perfectly equal. But for a big enough choice of $B_1$, $B_2$, the equality is satisfied, as we can see in the output of the cell below.\n",
    "\n",
    "Let us inspect better the parameters we obtained:  "
   ]
  },
  {
   "cell_type": "code",
   "execution_count": 7,
   "metadata": {},
   "outputs": [
    {
     "name": "stdout",
     "output_type": "stream",
     "text": [
      "eps =  0.5493061443340548\n"
     ]
    },
    {
     "data": {
      "image/png": "[encoded data removed]",
      "text/plain": [
       "<Figure size 432x288 with 1 Axes>"
      ]
     },
     "metadata": {
      "needs_background": "light"
     },
     "output_type": "display_data"
    },
    {
     "name": "stdout",
     "output_type": "stream",
     "text": [
      "The intensity lam=0.001472 is very small because the mass is concentrated inside [-eps,eps].\n",
      "\n",
      "Theoretical w:  -0.07905508872438688\n",
      "Approximated w, w_eps =  -0.0005999810394699548\n",
      "Integral of int_w inside the truncation [-eps,eps]:  -0.07844382431861299\n"
     ]
    },
    {
     "data": {
      "image/png": "[encoded data removed]",
      "text/plain": [
       "<Figure size 432x288 with 1 Axes>"
      ]
     },
     "metadata": {
      "needs_background": "light"
     },
     "output_type": "display_data"
    },
    {
     "name": "stdout",
     "output_type": "stream",
     "text": [
      "The VG variance 0.042981 is equal to the sum of the Var of the decomposed processes 0.043000.\n",
      "Under this discretization the diffusion variance 0.042396 is the major component. \n"
     ]
    }
   ],
   "source": [
    "print(\"eps = \", eps)\n",
    "plt.plot(np.linspace(-1,1,100), levy_m(np.linspace(-1,1,100))); plt.title(\"Lévy measure\"); plt.show()\n",
    "print(\"The intensity lam={:.6f} \\\n",
    "is very small because the mass is concentrated inside [-eps,eps].\".format(lam))\n",
    "print(\"\")\n",
    "\n",
    "print(\"Theoretical w: \", W)\n",
    "print(\"Approximated w, w_eps = \", w)\n",
    "print(\"Integral of int_w inside the truncation [-eps,eps]: \", \n",
    "      quad(int_w, -eps, 1e-10)[0] + quad(int_w, 1e-10, eps)[0])\n",
    "plt.plot(np.linspace(-1,1,100), int_w(np.linspace(-1,1,100))); plt.title(\"(e^z-1) * nu(z)\"); plt.show()\n",
    "\n",
    "print(\"The VG variance {0:.6f} is equal to the sum of the Var of the decomposed \\\n",
    "processes {1:.6f}.\".format(sigJ + sig2, dev_X**2) )\n",
    "print(\"Under this discretization the diffusion variance {:.6f} is the major component. \".format(sig2))"
   ]
  },
  {
   "cell_type": "markdown",
   "metadata": {},
   "source": [
    "The parameter $w_{\\epsilon}$ (i.e. w) is very different from the theoretical $w$ (i.e. W). This is a consequence of the discretization.    \n",
    "I showed that the integral of $(e^z-1)\\nu(dz)$ on $|z|>\\epsilon$ is almost zero.     \n",
    "It follows that the integral in the region $|z|<\\epsilon$ is almost equal to $w$.\n",
    "\n",
    "Ok... now that we have some confidence on this topic, we can continue with the solution of the PIDE.     \n",
    "As usual we create the diffusion matrix:"
   ]
  },
  {
   "cell_type": "code",
   "execution_count": 8,
   "metadata": {},
   "outputs": [],
   "source": [
    "dxx = dx * dx\n",
    "a = ( (dt/2) * ( (r-w-0.5*sig2)/dx - sig2/dxx ) )\n",
    "b = ( 1 + dt * ( sig2/dxx + r + lam) )\n",
    "c = (-(dt/2) * ( (r-w-0.5*sig2)/dx + sig2/dxx ) )\n",
    "D = sparse.diags([a, b, c], [-1, 0, 1], shape=(Nspace-2, Nspace-2)).tocsc()\n",
    "DD = splu(D)"
   ]
  },
  {
   "cell_type": "markdown",
   "metadata": {},
   "source": [
    "In the following cell, I create the Lévy measure vector. \n",
    "\n",
    "The three points in the middle are zero!     \n",
    "This is because the Lévy measure is truncated near the origin, and the region $[-\\epsilon, \\epsilon] = [-1.5\\Delta x, 1.5\\Delta x]$ is excluded."
   ]
  },
  {
   "cell_type": "code",
   "execution_count": 9,
   "metadata": {},
   "outputs": [
    {
     "data": {
      "text/latex": [
       "$\\displaystyle \\left[\\begin{matrix}0.00140784532775271\\\\0.0\\\\0.0\\\\0.0\\\\6.46388528653556 \\cdot 10^{-5}\\end{matrix}\\right]$"
      ],
      "text/plain": [
       "⎡0.00140784532775271⎤\n",
       "⎢                   ⎥\n",
       "⎢        0.0        ⎥\n",
       "⎢                   ⎥\n",
       "⎢        0.0        ⎥\n",
       "⎢                   ⎥\n",
       "⎢        0.0        ⎥\n",
       "⎢                   ⎥\n",
       "⎣6.46388528653556e-5⎦"
      ]
     },
     "metadata": {},
     "output_type": "display_data"
    }
   ],
   "source": [
    "nu = np.zeros(2*extraP+3)        # Lévy measure vector\n",
    "x_med = extraP+1                 # middle point in nu vector\n",
    "x_nu = np.linspace(-(extraP+1+0.5)*dx, (extraP+1+0.5)*dx, 2*(extraP+2) )    # integration domain\n",
    "\n",
    "for i in range(len(nu)):\n",
    "    if (i==x_med) or (i==x_med-1) or (i==x_med+1):\n",
    "        continue\n",
    "    nu[i] = quad(levy_m, x_nu[i], x_nu[i+1])[0]\n",
    "\n",
    "display_matrix(nu)"
   ]
  },
  {
   "cell_type": "markdown",
   "metadata": {},
   "source": [
    "The following code is the same we used for the Merton PIDE. "
   ]
  },
  {
   "cell_type": "code",
   "execution_count": 10,
   "metadata": {},
   "outputs": [],
   "source": [
    "# Backward iteration\n",
    "for i in range(Ntime-2,-1,-1):\n",
    "    offset[0] = a * V[extraP,i]\n",
    "    offset[-1] = c * V[-1-extraP,i]\n",
    "    V_jump = V[extraP+1 : -extraP-1, i+1] + dt * signal.convolve(V[:,i+1],nu[::-1],mode=\"valid\",method=\"auto\")\n",
    "    V[extraP+1 : -extraP-1, i] = DD.solve( V_jump - offset ) "
   ]
  },
  {
   "cell_type": "code",
   "execution_count": 11,
   "metadata": {},
   "outputs": [
    {
     "name": "stdout",
     "output_type": "stream",
     "text": [
      "10.467523461720823\n"
     ]
    }
   ],
   "source": [
    "# finds the option at S0\n",
    "oPrice = np.interp(X0, x, V[:,0])\n",
    "print(oPrice)"
   ]
  },
  {
   "cell_type": "markdown",
   "metadata": {},
   "source": [
    "##### All good!!\n",
    "\n",
    "**Alternatively** we could have used the Jump matrix. \n",
    "Let us do it for completeness, but remember that the `signal.convolve` method is more efficient."
   ]
  },
  {
   "cell_type": "code",
   "execution_count": 12,
   "metadata": {},
   "outputs": [
    {
     "data": {
      "text/latex": [
       "$\\displaystyle \\left[\\begin{matrix}0.00140784532775271 & 0.0 & 0.0 & 0.0 & 6.46388528653556 \\cdot 10^{-5} & 0.0 & 0.0 & 0.0 & 0.0\\\\0.0 & 0.00140784532775271 & 0.0 & 0.0 & 0.0 & 6.46388528653556 \\cdot 10^{-5} & 0.0 & 0.0 & 0.0\\\\0.0 & 0.0 & 0.00140784532775271 & 0.0 & 0.0 & 0.0 & 6.46388528653556 \\cdot 10^{-5} & 0.0 & 0.0\\\\0.0 & 0.0 & 0.0 & 0.00140784532775271 & 0.0 & 0.0 & 0.0 & 6.46388528653556 \\cdot 10^{-5} & 0.0\\\\0.0 & 0.0 & 0.0 & 0.0 & 0.00140784532775271 & 0.0 & 0.0 & 0.0 & 6.46388528653556 \\cdot 10^{-5}\\end{matrix}\\right]$"
      ],
      "text/plain": [
       "⎡0.00140784532775271          0.0                  0.0                  0.0   \n",
       "⎢                                                                             \n",
       "⎢        0.0          0.00140784532775271          0.0                  0.0   \n",
       "⎢                                                                             \n",
       "⎢        0.0                  0.0          0.00140784532775271          0.0   \n",
       "⎢                                                                             \n",
       "⎢        0.0                  0.0                  0.0          0.001407845327\n",
       "⎢                                                                             \n",
       "⎣        0.0                  0.0                  0.0                  0.0   \n",
       "\n",
       "       6.46388528653556e-5          0.0                  0.0                  \n",
       "                                                                              \n",
       "               0.0          6.46388528653556e-5          0.0                  \n",
       "                                                                              \n",
       "               0.0                  0.0          6.46388528653556e-5          \n",
       "                                                                              \n",
       "75271          0.0                  0.0                  0.0          6.463885\n",
       "                                                                              \n",
       "       0.00140784532775271          0.0                  0.0                  \n",
       "\n",
       "0.0                  0.0        ⎤\n",
       "                                ⎥\n",
       "0.0                  0.0        ⎥\n",
       "                                ⎥\n",
       "0.0                  0.0        ⎥\n",
       "                                ⎥\n",
       "28653556e-5          0.0        ⎥\n",
       "                                ⎥\n",
       "0.0          6.46388528653556e-5⎦"
      ]
     },
     "metadata": {},
     "output_type": "display_data"
    }
   ],
   "source": [
    "J = np.zeros((Nspace-2, Nspace + 2*extraP))\n",
    "\n",
    "for i in range(Nspace-2):\n",
    "    J[i, i:(len(nu)+i)] = nu\n",
    "\n",
    "display_matrix(J)"
   ]
  },
  {
   "cell_type": "code",
   "execution_count": 13,
   "metadata": {},
   "outputs": [],
   "source": [
    "# Backward iteration\n",
    "for i in range(Ntime-2,-1,-1):\n",
    "    offset[0] = a * V[extraP,i]\n",
    "    offset[-1] = c * V[-1-extraP,i]\n",
    "    V_jump = V[extraP+1 : -extraP-1, i+1] + dt * (J @ V[:,i+1])\n",
    "    V[extraP+1 : -extraP-1, i] = DD.solve( V_jump - offset )"
   ]
  },
  {
   "cell_type": "code",
   "execution_count": 14,
   "metadata": {},
   "outputs": [
    {
     "name": "stdout",
     "output_type": "stream",
     "text": [
      "10.467523461720823\n"
     ]
    }
   ],
   "source": [
    "# finds the ATM option at S0\n",
    "oPrice = np.interp(X0, x, V[:,0])\n",
    "print(oPrice)"
   ]
  },
  {
   "cell_type": "markdown",
   "metadata": {},
   "source": [
    "<a id='sec3'></a>\n",
    "## Comparison with Monte Carlo, closed formula and Fourier inversion\n",
    "\n",
    "\n",
    "Let us compare the ATM prices obtained from different numerical methods. "
   ]
  },
  {
   "cell_type": "code",
   "execution_count": 15,
   "metadata": {},
   "outputs": [],
   "source": [
    "from functions.Parameters import Option_param\n",
    "from functions.Processes import Diffusion_process, VG_process\n",
    "from functions.BS_pricer import BS_pricer\n",
    "from functions.VG_pricer import VG_pricer"
   ]
  },
  {
   "cell_type": "code",
   "execution_count": 16,
   "metadata": {},
   "outputs": [],
   "source": [
    "# Creates the object with the parameters of the option\n",
    "opt_param = Option_param(S0=100, K=100, T=1, exercise=\"European\", payoff=\"call\" )\n",
    "# Creates the object with the parameters of the process\n",
    "VG_param = VG_process(r=0.1, sigma=0.2, theta=-0.1, kappa=0.3)\n",
    "# Creates the VG pricer\n",
    "VG = VG_pricer(opt_param, VG_param)"
   ]
  },
  {
   "cell_type": "markdown",
   "metadata": {},
   "source": [
    "PIDE price:  (it takes about 5 minutes to run)"
   ]
  },
  {
   "cell_type": "code",
   "execution_count": 19,
   "metadata": {},
   "outputs": [
    {
     "data": {
      "image/png": "[encoded data removed]",
      "text/latex": [
       "$\\displaystyle \\left( 13.39463259652167, \\  244.95605039596558\\right)$"
      ],
      "text/plain": [
       "(13.39463259652167, 244.95605039596558)"
      ]
     },
     "execution_count": 19,
     "metadata": {},
     "output_type": "execute_result"
    }
   ],
   "source": [
    "VG.PIDE_price((30000,30000), Time=True)"
   ]
  },
  {
   "cell_type": "code",
   "execution_count": 20,
   "metadata": {},
   "outputs": [
    {
     "data": {
      "image/png": "[encoded data removed]",
      "text/plain": [
       "<Figure size 432x288 with 1 Axes>"
      ]
     },
     "metadata": {
      "needs_background": "light"
     },
     "output_type": "display_data"
    }
   ],
   "source": [
    "VG.plot([50,200,0,100])"
   ]
  },
  {
   "cell_type": "markdown",
   "metadata": {},
   "source": [
    "**Closed formula**:\n",
    "\n",
    "The semi-closed formula is a complicated expression presented in [1]. I will not describe it here.    \n",
    "However, it doesn't work properly. It has a negative bias. Read comments below."
   ]
  },
  {
   "cell_type": "code",
   "execution_count": 21,
   "metadata": {},
   "outputs": [
    {
     "data": {
      "image/png": "[encoded data removed]",
      "text/latex": [
       "$\\displaystyle 13.204016533499598$"
      ],
      "text/plain": [
       "13.204016533499598"
      ]
     },
     "execution_count": 21,
     "metadata": {},
     "output_type": "execute_result"
    }
   ],
   "source": [
    "VG.closed_formula()"
   ]
  },
  {
   "cell_type": "markdown",
   "metadata": {},
   "source": [
    "**Fourier inversion**:"
   ]
  },
  {
   "cell_type": "code",
   "execution_count": 22,
   "metadata": {},
   "outputs": [
    {
     "data": {
      "image/png": "[encoded data removed]",
      "text/latex": [
       "$\\displaystyle 13.404682278200958$"
      ],
      "text/plain": [
       "13.404682278200958"
      ]
     },
     "execution_count": 22,
     "metadata": {},
     "output_type": "execute_result"
    }
   ],
   "source": [
    "VG.Fourier_inversion()"
   ]
  },
  {
   "cell_type": "markdown",
   "metadata": {},
   "source": [
    "**Monte Carlo**:\n",
    "\n",
    "(the output includes the price, the standard error and the execution time)"
   ]
  },
  {
   "cell_type": "code",
   "execution_count": 23,
   "metadata": {},
   "outputs": [
    {
     "data": {
      "image/png": "[encoded data removed]",
      "text/latex": [
       "$\\displaystyle \\left( 13.405001686552064, \\  0.0034815757649678974, \\  4.264275550842285\\right)$"
      ],
      "text/plain": [
       "(13.405001686552064, 0.0034815757649678974, 4.264275550842285)"
      ]
     },
     "execution_count": 23,
     "metadata": {},
     "output_type": "execute_result"
    }
   ],
   "source": [
    "VG.MC(20000000,Err=True, Time=True)"
   ]
  },
  {
   "cell_type": "markdown",
   "metadata": {},
   "source": [
    "The function `MC` uses the following code."
   ]
  },
  {
   "cell_type": "code",
   "execution_count": 24,
   "metadata": {},
   "outputs": [
    {
     "name": "stdout",
     "output_type": "stream",
     "text": [
      "Monte Carlo, call: 13.404649914750003, put: 3.8859258777234893\n"
     ]
    }
   ],
   "source": [
    "N = 10000000\n",
    "rho = 1 / kappa; T = 1\n",
    "w = -np.log(1 - theta * kappa - kappa/2 * sigma**2 ) /kappa  # martingale correction\n",
    "G = ss.gamma(rho * T).rvs(N) / rho                # gamma random vector\n",
    "Norm = ss.norm.rvs(0,1,N)                         # standard normal vector\n",
    "VG_RV = theta * G + sigma * np.sqrt(G) * Norm     # VG vector obtained by subordination\n",
    "S_T = S0 * np.exp( (r-w)*T + VG_RV )              # exponential dynamics\n",
    "call = np.exp(-r*T) * scp.mean( np.maximum(S_T-K,0) )\n",
    "put = np.exp(-r*T) * scp.mean( np.maximum(K-S_T,0) )\n",
    "print(\"Monte Carlo, call: {}, put: {}\".format(call,put))"
   ]
  },
  {
   "cell_type": "markdown",
   "metadata": {},
   "source": [
    "### Put option"
   ]
  },
  {
   "cell_type": "code",
   "execution_count": 25,
   "metadata": {},
   "outputs": [],
   "source": [
    "opt_param_p = Option_param(S0=100, K=100, T=1, exercise=\"European\", payoff=\"put\" )\n",
    "VG_p = VG_pricer(opt_param_p, VG_param)"
   ]
  },
  {
   "cell_type": "code",
   "execution_count": 26,
   "metadata": {},
   "outputs": [
    {
     "name": "stdout",
     "output_type": "stream",
     "text": [
      "PIDE price:  3.8872837369727464\n",
      "Fourier price:  3.8884240817969022\n",
      "Closed formula price:  3.687758337095545\n",
      "MC price:  3.8882342472589313\n"
     ]
    }
   ],
   "source": [
    "print(\"PIDE price: \", VG_p.PIDE_price((12000,9000)) )\n",
    "print(\"Fourier price: \", VG_p.Fourier_inversion() )\n",
    "# the closed formula for the put is calculated by PUT/CALL parity\n",
    "print(\"Closed formula price: \", VG_p.closed_formula() )  \n",
    "print(\"MC price: \", VG_p.MC(10000000) )"
   ]
  },
  {
   "cell_type": "code",
   "execution_count": 27,
   "metadata": {},
   "outputs": [
    {
     "data": {
      "image/png": "[encoded data removed]",
      "text/plain": [
       "<Figure size 432x288 with 1 Axes>"
      ]
     },
     "metadata": {
      "needs_background": "light"
     },
     "output_type": "display_data"
    }
   ],
   "source": [
    "VG_p.plot([50,150,0,60])"
   ]
  },
  {
   "cell_type": "markdown",
   "metadata": {},
   "source": [
    "### Remark:\n",
    "\n",
    "There are some discrepancies between the outputs of the four numerical methods.    \n",
    "\n",
    "- The Monte Carlo and Fourier prices are the most reliable\n",
    "\n",
    "- The convergence of the PIDE, when considering the Brownian approximation, is quite slow.\n",
    "  - For the put option we didn't need a huge grid in order to obtain the right price.\n",
    "  - But for the call option I had to use a huge grid (30000x30000). I expect to achieve a better convergence level for higher grid resolution, in particular when increasing the number of time steps.\n",
    "  - Increasing the computational domain $[A_1,A_2]$ may also help.\n",
    "\n",
    "- The semi-closed formula used in VG_pricer is taken from [1]. In my opinion, this formula is not very accurate.     \n",
    "  Unfortunately, I was not able to implement the closed formula proposed in the same paper [1], which relies on the     Bessel function of second kind (well...I tried, but it doesn't work. In VG_pricer it is called `closed_formula_wrong`).     \n",
    "  Therefore I decided to use the semi-closed formula, which is based on numerical integration. \n",
    "  However, this formula still does not produce very accurate values. \n",
    "\n",
    "If you have any comment on these features, please let me know."
   ]
  },
  {
   "cell_type": "markdown",
   "metadata": {},
   "source": [
    "<a id='sec4'></a>\n",
    "## Comparison with the Black Scholes PDE\n",
    "\n",
    "Now let us compare the VG curve with the Black Scholes curve, for a European call option.    \n",
    "The volatility of the BS model is chosen equal to the standard deviation of the VG process. \n",
    "\n",
    "In this case I'm going to select some parameters with the purpose to have high values of skewness and kurtosis for the VG distribution.    \n",
    "In the VG process, the parameter $\\theta$ is associated to the skewness, and the parameter $\\kappa$ is associated to the kurtosis.\n",
    "\n",
    "Looking at the plot we can notice the different shape of the two curves."
   ]
  },
  {
   "cell_type": "code",
   "execution_count": 25,
   "metadata": {},
   "outputs": [
    {
     "name": "stdout",
     "output_type": "stream",
     "text": [
      "standard deviation:  0.37416573867739417\n",
      "skewness:  -3.05441419328485\n",
      "kurtosis:  14.387755102040819\n",
      "Changing the sign of theta, the skewness becomes:  3.05441419328485\n"
     ]
    }
   ],
   "source": [
    "# Creates the object with the parameters of the option\n",
    "opt_param = Option_param(S0=100, K=100, T=1, exercise=\"European\", payoff=\"call\" )\n",
    "\n",
    "# Creates the object with the parameters of the process\n",
    "VG_param2 = VG_process(r=0.1, sigma=0.2, theta=-0.2, kappa=2.5)\n",
    "VG_param3 = VG_process(r=0.1, sigma=0.2, theta=+0.2, kappa=2.5)\n",
    "diff_param = Diffusion_process(r=0.1, sig=np.sqrt(VG_param2.var))   \n",
    "\n",
    "print(\"standard deviation: \", np.sqrt(VG_param2.var) )\n",
    "print(\"skewness: \", VG_param2.skew)\n",
    "print(\"kurtosis: \", VG_param2.kurt)\n",
    "print(\"Changing the sign of theta, the skewness becomes: \", VG_param3.skew)\n",
    "\n",
    "# Creates the object of the pricer\n",
    "BS = BS_pricer(opt_param, diff_param)\n",
    "VG2 = VG_pricer(opt_param, VG_param2)\n",
    "VG3 = VG_pricer(opt_param, VG_param3)"
   ]
  },
  {
   "cell_type": "code",
   "execution_count": 26,
   "metadata": {},
   "outputs": [
    {
     "data": {
      "image/png": "[encoded data removed]",
      "text/latex": [
       "$\\displaystyle \\left( 19.387362386673615, \\  1.5161221027374268\\right)$"
      ],
      "text/plain": [
       "(19.387362386673615, 1.5161221027374268)"
      ]
     },
     "execution_count": 26,
     "metadata": {},
     "output_type": "execute_result"
    }
   ],
   "source": [
    "BS.PDE_price((7000,4000), Time=True)"
   ]
  },
  {
   "cell_type": "code",
   "execution_count": 27,
   "metadata": {},
   "outputs": [
    {
     "data": {
      "image/png": "[encoded data removed]",
      "text/latex": [
       "$\\displaystyle \\left( 16.117839391531, \\  46.54129958152771\\right)$"
      ],
      "text/plain": [
       "(16.117839391531, 46.54129958152771)"
      ]
     },
     "execution_count": 27,
     "metadata": {},
     "output_type": "execute_result"
    }
   ],
   "source": [
    "VG2.PIDE_price((14000,10000), Time=True)    # negative skewness"
   ]
  },
  {
   "cell_type": "code",
   "execution_count": 28,
   "metadata": {},
   "outputs": [
    {
     "data": {
      "image/png": "[encoded data removed]",
      "text/latex": [
       "$\\displaystyle \\left( 18.12667428279963, \\  46.30427956581116\\right)$"
      ],
      "text/plain": [
       "(18.12667428279963, 46.30427956581116)"
      ]
     },
     "execution_count": 28,
     "metadata": {},
     "output_type": "execute_result"
    }
   ],
   "source": [
    "VG3.PIDE_price((14000,10000), Time=True)    # positive skewness "
   ]
  },
  {
   "cell_type": "code",
   "execution_count": 29,
   "metadata": {},
   "outputs": [
    {
     "data": {
      "image/png": "[encoded data removed]",
      "text/plain": [
       "<Figure size 1296x432 with 2 Axes>"
      ]
     },
     "metadata": {
      "needs_background": "light"
     },
     "output_type": "display_data"
    }
   ],
   "source": [
    "fig = plt.figure(figsize=(18,6))\n",
    "ax1 = fig.add_subplot(121); ax2 = fig.add_subplot(122)\n",
    "\n",
    "ax1.plot(BS.S_vec, BS.price_vec, color='red',label=\"BS curve\")\n",
    "ax1.plot(VG2.S_vec, VG2.price_vec, color='green',label=\"VG curve\")\n",
    "ax1.plot(VG2.S_vec, VG2.payoff_f(VG2.S_vec), color='black',label=\"Payoff\")\n",
    "ax1.set_xlim(50,150); ax1.set_ylim(0,50)\n",
    "ax1.set_xlabel(\"S\"); ax1.set_ylabel(\"price\"); ax1.set_title(\"VG vs BS - same variance - negative skewness\")\n",
    "ax1.legend()\n",
    "\n",
    "ax2.plot(BS.S_vec, BS.price_vec, color='red',label=\"BS curve\")\n",
    "ax2.plot(VG3.S_vec, VG3.price_vec, color='green',label=\"VG curve\")\n",
    "ax2.plot(VG3.S_vec, VG3.payoff_f(VG3.S_vec), color='black',label=\"Payoff\")\n",
    "ax2.set_xlim(50,170); ax2.set_ylim(0,80)\n",
    "ax2.set_xlabel(\"S\"); ax2.set_ylabel(\"price\"); ax2.set_title(\"VG vs BS - same variance - positive skewness\")\n",
    "ax2.legend()\n",
    "\n",
    "plt.show()"
   ]
  },
  {
   "cell_type": "markdown",
   "metadata": {},
   "source": [
    "## References\n",
    "\n",
    "[1]  Madan, D., Carr, P., and Chang, E. (1998). \"The Variance Gamma process and option pricing\". European Finance Review, 2, 79--105."
   ]
  }
 ],
 "metadata": {
  "kernelspec": {
   "display_name": "Python 3",
   "language": "python",
   "name": "python3"
  },
  "language_info": {
   "codemirror_mode": {
    "name": "ipython",
    "version": 3
   },
   "file_extension": ".py",
   "mimetype": "text/x-python",
   "name": "python",
   "nbconvert_exporter": "python",
   "pygments_lexer": "ipython3",
   "version": "3.7.3"
  }
 },
 "nbformat": 4,
 "nbformat_minor": 2
}
