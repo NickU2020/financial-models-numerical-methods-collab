{
 "cells": [
  {
   "cell_type": "markdown",
   "metadata": {},
   "source": [
    "# Davis-Panas-Zariphopoulou model"
   ]
  },
  {
   "cell_type": "markdown",
   "metadata": {},
   "source": [
    "This notebook presents a model for pricing options in a market with proportional transaction costs. The model is taken from the celebrated work of Davis-Panas-Zariphopoulou 1993 [*link-to-the-paper*](https://web.ma.utexas.edu/users/zariphop/pdfs/TZ-7.pdf). \n",
    "\n",
    "#### This is a very powerful model!\n",
    "\n",
    "However, due to its complexity (and time complexity), it is not very well known to the practitioners.\n",
    "\n",
    "The purpose of this notebook is to explain **in simple terms** the main ideas of the model, and show how to implement it numerically. **The results will surprise you!**\n",
    "\n",
    "## Contents\n",
    "   - [Model description](#sec1)\n",
    "      - [Portfolio dynamics (original)](#sec1.1)\n",
    "      - [Some definitions](#sec1.2)\n",
    "   - [Singular control problem](#sec2)\n",
    "      - [Maximization problem](#sec2.1)\n",
    "      - [Indifference pricing](#sec2.2)\n",
    "   - [Variable reduction](#sec3)\n",
    "      - [Minimization problem](#sec3.1)\n",
    "      - [Portfolio dynamics (2 state variables)](#sec3.2)\n",
    "      - [HJB variational inequality](#sec3.3)\n",
    "      - [Indifference price (explicit form)](#sec3.4)\n",
    "   - [Numerical Solution](#sec4)\n",
    "       - [Discrete SDE](#sec4.1)\n",
    "       - [Algorithm](#sec4.2)\n",
    "   - [Numerical Computations](#sec5)\n",
    "       - [Time complexity](#sec5.1)\n",
    "       - [Is the risk aversion important?](#sec5.2)\n",
    "       - [Is the drift important?](#sec5.3)"
   ]
  },
  {
   "cell_type": "code",
   "execution_count": 2,
   "metadata": {},
   "outputs": [],
   "source": [
    "import numpy as np\n",
    "import matplotlib.pyplot as plt\n",
    "import pandas as pd\n",
    "from IPython.display import display\n",
    "%matplotlib inline"
   ]
  },
  {
   "cell_type": "markdown",
   "metadata": {},
   "source": [
    "<a id='sec1'></a>\n",
    "# Model Description"
   ]
  },
  {
   "cell_type": "markdown",
   "metadata": {},
   "source": [
    "<a id='sec1.1'></a>\n",
    "### Portfolio dynamics (original)\n",
    "Let us consider a portfolio composed by: \n",
    "- A bank account $\\mathbf{B}$ paying an interest rate $r > 0$. \n",
    "- A stock $\\mathbf{S}$. \n",
    "- A number of shares $\\mathbf{Y}$ of the stock $\\mathbf{S}$. \n",
    "\n",
    "The 3-D state of the portfolio at time $t\\in [t_0,T]$ is $(B_t,Y_t,S_t)$ and evolves following the SDE:\n",
    "\n",
    "\\begin{equation}\n",
    " \\begin{cases}\n",
    " dB_t &=  rB_t dt - (1+\\theta_b)S_{t} dL_t + (1-\\theta_s) S_{t} dM_t \\\\\n",
    " dY_t &=  dL_t - dM_t \\\\\n",
    " dS_t &=  S_{t} \\left( \\mu dt + \\sigma dW_t \\right).\n",
    "\\end{cases}\n",
    "\\end{equation} \n",
    "\n",
    "The parameters $\\theta_b$, $\\theta_s \\geq 0$ are the proportional transaction costs when buying and selling respectively. \n",
    "\n",
    "The processes  $\\{(L_t, M_t)\\}_{t \\in [t_0,T]}$ are the **trading strategies**, i.e. the **controls** of the problem. \n",
    "\n",
    "The process $\\{L_t\\}_{t}$ represents the cumulative number of shares bought up to time $t$, and $\\{M_t\\}_{t}$ represents the number of shares sold up to time $t$. \n",
    "They are right-continuous, finite variation, non-negative and increasing processes. If the time $t$ is a discontinuous point (there is a transaction), the variation of the processes are indicated as\n",
    "$$ \\Delta L_t= L(t)-L(t^-) \\quad \\quad \\Delta M_t= M(t)-M(t^-) $$\n",
    "\n",
    "Let us consider an example. If at time $t$, the investor wants to buy $\\Delta L_t$ shares. Then the portfolio changes as\n",
    "\n",
    "$$ \\Delta Y_t =  \\underbrace{\\Delta L_t}_{\\text{shares bought}} \\quad \\quad\n",
    " \\Delta B_t =  - \\underbrace{(1+\\theta_b)S_t}_{\\text{adjusted price}} \\Delta L_t $$\n",
    "\n",
    "where the **adjusted price** is the real cost of the stock (incorporating the transaction cost).\n",
    "\n",
    "If there are no transactions, the portfolio has the simple well known evolution:\n",
    "\n",
    "$$\n",
    " \\begin{cases}\n",
    " dB_t &=  rB_t dt \\\\\n",
    " dY_t &=  0 \\\\\n",
    " dS_t &=  S_{t} \\left( \\mu dt + \\sigma dW_t \\right).\n",
    "\\end{cases}\n",
    "$$\n"
   ]
  },
  {
   "cell_type": "markdown",
   "metadata": {},
   "source": [
    "<a id='sec1.2'></a>\n",
    "### Some definitions\n",
    "\n",
    "The **cash value** function $c(y,s) : \\mathbb{R} \\times \\mathbb{R}^+ \\to \\mathbb{R}$, is defined as the value in cash when the shares in the portfolio are liquidated i.e.  \n",
    "long positions are sold and short positions are covered.\n",
    "\n",
    "$$\n",
    "c(y,s) := \\begin{cases} \n",
    "(1+\\theta_b)ys, & \\mbox{if } y\\leq 0 \\\\ \n",
    "(1-\\theta_s)ys, & \\mbox{if } y>0 . \n",
    "\\end{cases} \n",
    "$$\n",
    "\n",
    "For $t\\in [t_0,T]$, the **total wealth** process in a portfolio with zero options is defined as:\n",
    "\n",
    "$$ \\mathcal{W}^0_t := B_t + c(Y_t,S_t). $$\n",
    "\n",
    "If the portfolio contains an option with maturity $T$ and strike $K$, then the wealth process becomes:    \n",
    "**Writer**:\n",
    " \n",
    "$$ \\mathcal{W}^{w}_t = \\; B_t + c(Y_t,S_t) \\mathbb{1}_{\\{t < T\\}} +\n",
    " c(Y_t,S_t) \\mathbb{1}_{\\{t = T,\\, S_t(1+ \\theta_b ) \\leq K\\}} +\n",
    " \\biggl( c\\bigl( Y_t-1,S_t \\bigr) + K \\biggr) \\mathbb{1}_{\\{t=T,\\, S_t(1+ \\theta_b ) > K \\}} $$\n",
    " \n",
    "**Buyer**:   \n",
    "\n",
    " $$   \\mathcal{W}^{b}_t = \\; B_t + c(Y_t,S_t) \\mathbb{1}_{\\{t < T\\}} +\n",
    "  c(Y_t,S_t) \\mathbb{1}_{\\{t = T,\\, S_t(1+ \\theta_b ) \\leq K\\}} +\n",
    "  \\biggl( c\\bigl( Y_t+1,S_t \\bigr) - K \\biggr) \\mathbb{1}_{\\{t=T,\\, S_t(1+ \\theta_b ) > K \\}}  $$\n",
    "  \n",
    "For $t_0 \\leq t<T$, the wealths $\\mathcal{W}^{w}_t$ and $\\mathcal{W}^{b}_t$ are equal to $\\mathcal{W}^{0}_t$, but when $t = T$ they differ because of the payoff of the option. The writer gives away a share and recives the strike and the buyer receive a share and pays the strike. \n",
    "\n",
    "Note that considering a market with transaction costs, implies a different condition for the exercise of the option. Now the buyer should exercise if $S_t(1+ \\theta_b ) > K$, because the true price of the share incorporates the value of the transaction costs. Let's see the plot:"
   ]
  },
  {
   "cell_type": "code",
   "execution_count": 2,
   "metadata": {},
   "outputs": [
    {
     "data": {
      "image/png": "[encoded data removed]",
      "text/plain": [
       "<Figure size 432x288 with 1 Axes>"
      ]
     },
     "metadata": {
      "needs_background": "light"
     },
     "output_type": "display_data"
    }
   ],
   "source": [
    "S = np.linspace(14,16,100)\n",
    "K = 15            # strike\n",
    "cost_b = 0.01     # transaction cost \n",
    "\n",
    "plt.plot(S, np.maximum(S-K,0), color='blue',label=\"Zero cost Payoff\")\n",
    "plt.plot(S, np.maximum(S*(1+cost_b)-K,0), color='red',label=\"Transaction costs Payoff\")\n",
    "plt.xlabel(\"S\")\n",
    "plt.ylabel(\"Payoff\")\n",
    "plt.title(\"Payoff comparison\")\n",
    "plt.legend(loc='upper left')\n",
    "plt.show()"
   ]
  },
  {
   "cell_type": "markdown",
   "metadata": {},
   "source": [
    "<a id='sec2'></a>\n",
    "## Singular control problem"
   ]
  },
  {
   "cell_type": "markdown",
   "metadata": {},
   "source": [
    "<a id='sec2.1'></a>\n",
    "### Maximization problem\n",
    "\n",
    "The **value function** of the maximization problem for $j=0,w,b$ (corresponding to the three portfolios: no option, writer, buyer) is defined as:\n",
    "\n",
    "\\begin{equation}\n",
    "V^j(t,b,y,s) = \\sup_{L,M} \\;  \\mathbb{E}\\biggl[ \\; \\mathcal{U}( \\mathcal{W}^{j}_T ) \\; \\bigg| \\; B_{t} = b, Y_{t} = y, S_{t} = s \\biggr],             \n",
    "\\end{equation}\n",
    "\n",
    "where $\\mathcal{U}: \\mathbb{R} \\to \\mathbb{R}$ is a concave increasing **utility function**. The **exponential utility** is what we are looking for:\n",
    "\n",
    "\\begin{equation}\n",
    " \\mathcal{U}(x) := 1- e^{-\\gamma x}   \\quad \\quad \\gamma >0 .\n",
    "\\end{equation}"
   ]
  },
  {
   "cell_type": "markdown",
   "metadata": {},
   "source": [
    "<a id='sec2.2'></a>\n",
    "### Indifference pricing\n",
    "\n",
    "The writer (buyer) option price is defined as the amount of cash to add (subtract) to the bank account, \n",
    "such that the maximal expected utility of wealth of the writer (buyer) is the same he could get with \n",
    "the zero-option portfolio.\n",
    "\n",
    "* The **writer price** is the value $p^w>0$ such that \n",
    " \\begin{equation}\n",
    "  V^0(t,b,y,s) = V^w(t,b+p^w,y,s),\n",
    " \\end{equation}\n",
    " \n",
    "* The **buyer price** is the value $p^b>0$ such that\n",
    " \\begin{equation}\n",
    "  V^0(t,b,y,s) = V^b(t,b-p^b,y,s).\n",
    " \\end{equation}"
   ]
  },
  {
   "cell_type": "markdown",
   "metadata": {},
   "source": [
    "<a id='sec3'></a>\n",
    "## Variable reduction"
   ]
  },
  {
   "cell_type": "markdown",
   "metadata": {},
   "source": [
    "Using the properties of the exponential utility, it is possible to remove $\\mathbf{B}$ from the state variables.\n",
    "\n",
    "$$ V^j(t,b,y,s) = \\sup_{L,M} \\; \\mathbb{E}_{t,b,y,s}\\biggl[  1- e^{-\\gamma \\mathcal{W}^j(T) } \\biggr]   \n",
    "\t     = 1- e^{-\\gamma \\frac{b}{\\delta(t,T)}} Q^j(t,y,s), $$\n",
    "         \n",
    "where $\\delta(t,T) = e^{-r(T-t)}$. (for the full calculations, check the paper. Equations 4.21 -4.25).\n",
    "\n",
    "<a id='sec3.1'></a>\n",
    "### Minimization problem\n",
    "\n",
    "\\begin{equation}\n",
    "Q^j(t,y,s) = \\inf_{L,M} \\; \\mathbb{E}_{t,y,s}\\biggl[ \\;\n",
    "\t     e^{-\\gamma \\bigl[ -\\int_{t}^T (1+\\theta_b) \\frac{S_u}{\\delta(u,T)} dL_u +\n",
    "\t     \\int_{t}^T (1-\\theta_s) \\frac{S_u}{\\delta(u,T)} dM_u \\bigr] } \\; H^j(Y_T,S_T) \\bigg]  \n",
    "\\end{equation}\n",
    "\n",
    "The exponential term inside the expectation can be considered as a discount factor, and the second term is the terminal payoff:\n",
    " - No option:\n",
    " \n",
    " $$ H^0(y,s) = e^{-\\gamma \\, c(y,s)}. $$\n",
    " \n",
    " - Writer:\n",
    " \n",
    " $$ H^w(y,s) = e^{-\\gamma \\bigl[ c(y,s)\\mathbb{1}_{\\{s(1+\\theta_b) \\leq K\\}} + \n",
    " \\bigl( c( y-1,s) + K \\bigr) \\mathbb{1}_{\\{s(1+\\theta_b)>K\\}} \\bigr] }.$$\n",
    " \n",
    " - Buyer:\n",
    "\n",
    "$$  H^b(y,s) = e^{-\\gamma \\bigl[ c(y,s)\\mathbb{1}_{\\{s(1+\\theta_b) \\leq K\\}} + \n",
    " \\bigl( c( y+1,s) - K \\bigr) \\mathbb{1}_{\\{s(1+\\theta_b)>K\\}} \\bigr] }.\n",
    "$$"
   ]
  },
  {
   "cell_type": "markdown",
   "metadata": {},
   "source": [
    "<a id='sec3.2'></a>\n",
    "### Portfolio dynamics (2 state variables)\n",
    "\n",
    "In order to simplify the numerical computations,let us pass to the log-variable $X_t = \\log(S_t)$.\n",
    "\n",
    "The resulting portfolio dynamics is:\n",
    "\n",
    "\\begin{equation}\n",
    " \\begin{cases}\n",
    " dY_t &=  dL_t - dM_t \\\\\n",
    " dX_t &= \\biggl( \\mu - \\frac{1}{2} \\sigma^2 \\biggr) dt + \\sigma dW_t.\n",
    "\\end{cases}\n",
    "\\end{equation} \n"
   ]
  },
  {
   "cell_type": "markdown",
   "metadata": {},
   "source": [
    "<a id='sec3.3'></a>\n",
    "### HJB variational inequality\n",
    "\n",
    "The Hamilton Jacobi Bellman equation associated to the minimization problem is:\n",
    "\n",
    "$$\n",
    " \\min \\; \\biggl\\{ \\; \\frac{\\partial Q^j}{\\partial t} + (\\mu-\\frac{1}{2}\\sigma^2) \\frac{\\partial Q^j}{\\partial x}\n",
    "+ \\frac{1}{2}\\sigma^2 \\frac{\\partial^2 Q^j}{\\partial x^2}  ,\n",
    " \\; \\frac{\\partial Q^j}{\\partial y} +(1+\\theta_b) e^x \\frac{\\gamma}{\\delta(t,T)}Q^j \\; , \n",
    "\\; -\\biggl( \\frac{\\partial Q^j}{\\partial y}+(1-\\theta_s)e^x \\frac{\\gamma}{\\delta(t,T)} Q^j \n",
    "\\biggr) \\biggr\\} = 0. \n",
    "$$"
   ]
  },
  {
   "cell_type": "markdown",
   "metadata": {},
   "source": [
    "<a id='sec3.4'></a>\n",
    "### Indifference price (explicit form)\n",
    "\n",
    "Using again the explicit form of the utility function, we obtain formulas for the option prices:\n",
    "\n",
    "$$\n",
    " p^w(t_0,y,x) = \\frac{\\delta(t_0,T)}{\\gamma} \\log \\biggl( \\frac{Q^w(t_0,y,e^x)}{Q^0(t_0,y,e^x)} \\biggr), $$\n",
    " \n",
    "$$ p^b(t_0,y,x) = \\frac{\\delta(t_0,T)}{\\gamma} \\log \\biggl( \\frac{Q^0(t_0,y,e^x)}{Q^b(t_0,y,e^x)} \\biggr).\n",
    "$$"
   ]
  },
  {
   "cell_type": "markdown",
   "metadata": {},
   "source": [
    "<a id='sec4'></a>\n",
    "# Numerical Solution"
   ]
  },
  {
   "cell_type": "markdown",
   "metadata": {},
   "source": [
    "<a id='sec4.1'></a>\n",
    "###  Discrete SDE\n",
    "\n",
    "As usual, we introduced the time step $\\Delta t = \\frac{T}{N}$, where we assumed $t_0 = 0$ and $N \\in \\mathbb{N}$. \n",
    "The time $t_n = n \\Delta t$, for $n \\in \\{0,1,2, ..., N\\}$. \n",
    "\n",
    "The space discretization has 2 dimensions:\n",
    "- The space step $h_x$ is defined as $h_x = \\sigma \\sqrt{\\Delta t}$.\n",
    "- The space step is $h_y$. In this computations we choose $h_x = h_y$.\n",
    "\n",
    "The discretized version of the Stochastic Differential equation is: \n",
    "\n",
    "$$\n",
    " \\begin{cases}\n",
    " \\Delta Y_n &= \\; \\Delta L_n - \\Delta M_n \\\\\n",
    " \\Delta X_n &= \\; (\\mu - \\frac{1}{2} \\sigma^2 )  \\Delta t + \\sigma \\Delta W_n\n",
    "\\end{cases}\n",
    "$$\n",
    "\n",
    "Both $\\Delta L_n$ and $\\Delta M_n$ at each time $t_n$ can assume values in $\\{0,h_y\\}$. They cannot be different from zero at the same time (It is quite strange to buy and sell at the same time, right?)\n",
    "\n",
    "The variable $\\Delta W_n$ has $\\frac{1}{2}$ probability of being equal to $h_x$ and $\\frac{1}{2}$ probability of being equal to $-h_x$.\n",
    "\n",
    "The variation $\\Delta X_n$ is $\\pm h_x$ plus the drift component. We obtain a recombining **binomial tree**."
   ]
  },
  {
   "cell_type": "markdown",
   "metadata": {},
   "source": [
    "### Binomial tree with drift"
   ]
  },
  {
   "cell_type": "code",
   "execution_count": 3,
   "metadata": {},
   "outputs": [
    {
     "name": "stdout",
     "output_type": "stream",
     "text": [
      "[2.7080502]\n",
      "[2.61744646 2.82157061]\n",
      "[2.52684272 2.73096687 2.93509101]\n",
      "[2.43623898 2.64036313 2.84448727 3.04861142]\n",
      "[2.34563524 2.54975939 2.75388353 2.95800768 3.16213182]\n",
      "[2.2550315  2.45915565 2.6632798  2.86740394 3.07152809 3.27565223]\n"
     ]
    }
   ],
   "source": [
    "N = 6; dt=1/N; S0 = 15; x0 = np.log(S0) \n",
    "mu = 0.1; sig = 0.25; h_x = sig * np.sqrt(dt)\n",
    "\n",
    "for n in range(N):\n",
    "    x = np.array( [x0 + (mu-0.5*sig**2)*dt*n + (2*i-n)*h_x for i in range(n+1) ] )\n",
    "    print(x)"
   ]
  },
  {
   "cell_type": "markdown",
   "metadata": {},
   "source": [
    "<a id='sec4.2'></a>\n",
    "###  Algorithm\n",
    "\n",
    "Using the Dynamic Programming Principle (DPP) on the minimization problem we obtain a recursive algorithm on the nodes of the grid.\n",
    "\n",
    "$$ \\begin{aligned}\n",
    " Q^{j}(t_n,Y_n,X_n) = \\min  \n",
    " & \\; \\biggl\\{ \\mathbb{E}_n \\biggl[ Q \\bigl( t_{n+1}, Y_n, X_n + \\Delta X_n \\bigr) \\biggr], \\\\ \\nonumber\n",
    " & \\; \\exp \\biggl(\\frac{\\gamma}{\\delta(t_n,T)} (1+\\theta_b) e^{X_n} \\Delta L_n \\biggr) \n",
    "  \\mathbb{E}_n \\biggl[ Q^{j} \\bigl( t_{n+1}, Y_n+\\Delta L_n, X_n + \\Delta X_n \\bigr) \\biggr], \\\\ \\nonumber\n",
    " & \\; \\exp \\biggl(\\frac{-\\gamma}{\\delta(t_n,T)} (1-\\theta_s) e^{X_n} \\Delta M_n \\biggr)\n",
    "  \\mathbb{E}_n \\biggl[ Q^{j} \\bigl( t_{n+1}, Y_n-\\Delta M_n, X_n + \\Delta X_n \\bigr) \\biggr]\n",
    " \\biggr\\}.\n",
    "\\end{aligned} $$\n",
    "\n",
    "#### How to solve this problem?\n",
    "- Create a **binomial tree** with N time steps. \n",
    "- Create a \"shares vector\" **y** with dimension M. \n",
    "- Initialize a two dimensional grid of size $(N+1)\\times M$, to be filled with the values of the terminal conditions $H^j(y,e^x)$ for $j=0,w,b$ (see [Minimization problem](#sec3.1))\n",
    "- Create a backward loop over time and find $Q^j(0,0,X_0)$\n",
    "\n",
    "#### Computational complexity?  Well... Quite high. \n",
    "- A binomial tree with N time steps has $\\sum_{n=0}^N (n+1) = \\frac{N(N+1)}{2} + (N+1) = (N+1)(\\frac{N}{2}+1)$ nodes. \n",
    "The loop over all the nodes is $\\mathcal{O}(N^2)$.\n",
    "- If we assume $M \\sim N$, the loop over all the values of **y** has another $\\mathcal{O}(N)$.\n",
    "- The minimum search for every point in **y**, produces another $\\mathcal{O}(N)$ operations.\n",
    "\n",
    "Therefore the total computational complexity is of $\\mathcal{O}(N^4)$.\n",
    "\n",
    "\n",
    "#### For space reasons, I will not expose the code here in the notebook. The interested reader can peek the (clear and commented) code inside the class TC_pricer.  [code](./functions/TC_pricer.py)"
   ]
  },
  {
   "cell_type": "markdown",
   "metadata": {},
   "source": [
    "<a id='sec5'></a>\n",
    "# Numerical computations\n",
    "\n",
    "Let us import the classes we need:\n",
    " - **Option_param**: creates the option object\n",
    " - **Diffusion_process**: creates the process object\n",
    " - **TC_pricer**: creates the pricer for this model\n",
    " - **BS_pricer**: creates the Black-Scholes pricer, useful for making comparisons.  "
   ]
  },
  {
   "cell_type": "code",
   "execution_count": 10,
   "metadata": {},
   "outputs": [],
   "source": [
    "from functions.Parameters import Option_param  \n",
    "from functions.Processes import Diffusion_process\n",
    "from functions.TC_pricer import TC_pricer\n",
    "from functions.BS_pricer import BS_pricer\n",
    "\n",
    "# Creates the object with the parameters of the option\n",
    "opt_param = Option_param(S0=15, K=15, T=1, exercise=\"European\", payoff=\"call\" )\n",
    "\n",
    "# Creates the object with the parameters of the process\n",
    "diff_param = Diffusion_process(r=0.1, sig=0.25, mu=0.1)\n",
    "\n",
    "# Creates the object of the Transaction Costs pricer\n",
    "TC = TC_pricer(opt_param, diff_param, cost_b=0, cost_s=0, gamma=0.0001)\n",
    "# Creates the object of the Black-Scholes pricer\n",
    "BS = BS_pricer(opt_param, diff_param)"
   ]
  },
  {
   "cell_type": "markdown",
   "metadata": {},
   "source": [
    "We expect that if the transaction costs are **zero**, and the risk aversion coefficient $\\gamma \\to 0$ (i.e. the investor becomes risk neutral), the price should **converge** to the **Black-Scholes price**"
   ]
  },
  {
   "cell_type": "code",
   "execution_count": 11,
   "metadata": {},
   "outputs": [
    {
     "name": "stdout",
     "output_type": "stream",
     "text": [
      "Zero TC price:  2.246375063664713\n",
      "Black Scholes price: 2.246368616746695\n",
      "Difference: 6.446918018099268e-06\n"
     ]
    }
   ],
   "source": [
    "tc = TC.price(N=2000)\n",
    "bs = BS.closed_formula()\n",
    "\n",
    "print(\"Zero TC price: \", tc )\n",
    "print(\"Black Scholes price:\", bs )\n",
    "print(\"Difference:\", np.abs(tc-bs))"
   ]
  },
  {
   "cell_type": "markdown",
   "metadata": {},
   "source": [
    "#### Wait a second!!! WE CAN DO BETTER!\n",
    "\n",
    "##### Let us analyze the the writer and buyer prices, for different initial stock values."
   ]
  },
  {
   "cell_type": "code",
   "execution_count": 29,
   "metadata": {},
   "outputs": [],
   "source": [
    "S = list(range(5,21))\n",
    "price_0 = []; price_w = []; price_b = []\n",
    "\n",
    "for s in S:\n",
    "    TC.S0 = s\n",
    "    TC.cost_b=0; TC.cost_s=0\n",
    "    price_0.append(TC.price(N=400))   # zero costs\n",
    "    TC.cost_b=0.05; TC.cost_s=0.05\n",
    "    price_w.append(TC.price(N=400, TYPE=\"writer\")) \n",
    "    price_b.append(TC.price(N=400, TYPE=\"buyer\"))\n",
    "TC.cost_b=0; TC.cost_s=0  # set to 0 for future computations"
   ]
  },
  {
   "cell_type": "code",
   "execution_count": 33,
   "metadata": {},
   "outputs": [
    {
     "data": {
      "image/png": "[encoded data removed]",
      "text/plain": [
       "<Figure size 432x288 with 1 Axes>"
      ]
     },
     "metadata": {
      "needs_background": "light"
     },
     "output_type": "display_data"
    }
   ],
   "source": [
    "plt.plot(S,price_0, color='blue', marker='s',label=\"Zero costs\")\n",
    "plt.plot(S,price_w, color='green', marker='o',label=\"Writer\")\n",
    "plt.plot(S,price_b, color='magenta', marker='*',label=\"Buyer\")\n",
    "BS.plot(axis=[10,20,0,8])  #plot of the Black Scholes line"
   ]
  },
  {
   "cell_type": "markdown",
   "metadata": {},
   "source": [
    "<a id='sec5.1'></a>\n",
    "### Time complexity\n",
    "\n",
    "If we set the \"Time\" argument to True, the method also returns the execution time.\n",
    "Let us verify that the algorithm has time complexity of order $\\mathcal{O}(N^4)$\n",
    "\n",
    "The following operation will be very time consuming. In case you are in a hurry, reduce the NUM."
   ]
  },
  {
   "cell_type": "code",
   "execution_count": 8,
   "metadata": {},
   "outputs": [
    {
     "data": {
      "text/html": [
       "<div>\n",
       "<style scoped>\n",
       "    .dataframe tbody tr th:only-of-type {\n",
       "        vertical-align: middle;\n",
       "    }\n",
       "\n",
       "    .dataframe tbody tr th {\n",
       "        vertical-align: top;\n",
       "    }\n",
       "\n",
       "    .dataframe thead th {\n",
       "        text-align: right;\n",
       "    }\n",
       "</style>\n",
       "<table border=\"1\" class=\"dataframe\">\n",
       "  <thead>\n",
       "    <tr style=\"text-align: right;\">\n",
       "      <th></th>\n",
       "      <th>N</th>\n",
       "      <th>Price</th>\n",
       "      <th>Time</th>\n",
       "    </tr>\n",
       "  </thead>\n",
       "  <tbody>\n",
       "    <tr>\n",
       "      <th>0</th>\n",
       "      <td>50.0</td>\n",
       "      <td>2.241215</td>\n",
       "      <td>0.033321</td>\n",
       "    </tr>\n",
       "    <tr>\n",
       "      <th>1</th>\n",
       "      <td>100.0</td>\n",
       "      <td>2.249143</td>\n",
       "      <td>0.096112</td>\n",
       "    </tr>\n",
       "    <tr>\n",
       "      <th>2</th>\n",
       "      <td>200.0</td>\n",
       "      <td>2.245423</td>\n",
       "      <td>0.395083</td>\n",
       "    </tr>\n",
       "    <tr>\n",
       "      <th>3</th>\n",
       "      <td>400.0</td>\n",
       "      <td>2.246784</td>\n",
       "      <td>1.948342</td>\n",
       "    </tr>\n",
       "    <tr>\n",
       "      <th>4</th>\n",
       "      <td>800.0</td>\n",
       "      <td>2.246289</td>\n",
       "      <td>13.928330</td>\n",
       "    </tr>\n",
       "    <tr>\n",
       "      <th>5</th>\n",
       "      <td>1600.0</td>\n",
       "      <td>2.246577</td>\n",
       "      <td>111.881915</td>\n",
       "    </tr>\n",
       "    <tr>\n",
       "      <th>6</th>\n",
       "      <td>3200.0</td>\n",
       "      <td>2.246412</td>\n",
       "      <td>1607.674912</td>\n",
       "    </tr>\n",
       "  </tbody>\n",
       "</table>\n",
       "</div>"
      ],
      "text/plain": [
       "        N     Price         Time\n",
       "0    50.0  2.241215     0.033321\n",
       "1   100.0  2.249143     0.096112\n",
       "2   200.0  2.245423     0.395083\n",
       "3   400.0  2.246784     1.948342\n",
       "4   800.0  2.246289    13.928330\n",
       "5  1600.0  2.246577   111.881915\n",
       "6  3200.0  2.246412  1607.674912"
      ]
     },
     "metadata": {},
     "output_type": "display_data"
    }
   ],
   "source": [
    "NUM = 7\n",
    "price_table = pd.DataFrame(columns=['N', \"Price\", \"Time\"])\n",
    "for j,n in enumerate([50 * 2**i for i in range(NUM) ]):\n",
    "    price_table.loc[j] = [n] + list(TC.price(n,Time=True))\n",
    "display(price_table)"
   ]
  },
  {
   "cell_type": "markdown",
   "metadata": {},
   "source": [
    "Using the computational times we can estimate the exponent $\\alpha$ of the polinomial growth $\\mathcal{O}(N^\\alpha)$. \n",
    "\n",
    "For higher values of N, the exponent converges to the expected value of $\\alpha = 4$.\n",
    "\n",
    "Here we are quite close."
   ]
  },
  {
   "cell_type": "code",
   "execution_count": 27,
   "metadata": {},
   "outputs": [
    {
     "name": "stdout",
     "output_type": "stream",
     "text": [
      "The exponent is:  3.8449269495846137\n"
     ]
    }
   ],
   "source": [
    "print(\"The exponent is: \", np.log2(price_table[\"Time\"][6]/price_table[\"Time\"][5]))"
   ]
  },
  {
   "cell_type": "markdown",
   "metadata": {},
   "source": [
    "<a id='sec5.2'></a>\n",
    "### Is the risk aversion important?\n",
    "\n",
    "The coefficient $\\gamma$ measure the risk aversion of the investor. We can see how the option price is affected by this coefficient:"
   ]
  },
  {
   "cell_type": "code",
   "execution_count": 18,
   "metadata": {},
   "outputs": [
    {
     "data": {
      "image/png": "[encoded data removed]",
      "text/plain": [
       "<Figure size 432x288 with 1 Axes>"
      ]
     },
     "metadata": {
      "needs_background": "light"
     },
     "output_type": "display_data"
    }
   ],
   "source": [
    "price_ww = []; price_bb = []; gammas = [0.0001, 0.001, 0.01, 0.05, 0.1, 0.3, 0.5]\n",
    "TC.cost_b=0.01; TC.cost_s=0.01\n",
    "\n",
    "for gamma in gammas:\n",
    "    TC.gamma = gamma\n",
    "    price_ww.append(TC.price(N=400, TYPE=\"writer\")) \n",
    "    price_bb.append(TC.price(N=400, TYPE=\"buyer\"))\n",
    "\n",
    "plt.plot(gammas, price_ww, color='green', marker='o',label=\"Writer\")\n",
    "plt.plot(gammas, price_bb, color='magenta', marker='*',label=\"Buyer\")\n",
    "plt.xlabel(\"gamma\"); plt.ylabel(\"price\"); plt.legend()\n",
    "plt.show()"
   ]
  },
  {
   "cell_type": "markdown",
   "metadata": {},
   "source": [
    "So far we have found that:\n",
    "\n",
    "- The option pricing is an increasing function of the risk aversion coefficient for the writer, and a decreasing function for the buyer.\n",
    "\n",
    "- The option pricing is an increasing function of the transaction costs for the writer, and a decreasing function for the buyer."
   ]
  },
  {
   "cell_type": "markdown",
   "metadata": {},
   "source": [
    "<a id='sec5.3'></a>\n",
    "### Is the drift important? \n",
    "\n",
    "As we know from the \"classical\" no-arbitrage martingale pricing theory, the option price does not depend on the stock expected value. \n",
    "\n",
    "However, this model is a utility based model i.e. a model that does not consider a risk neutral investor. \n",
    "\n",
    "We can see that in this model the option price depends on the drift. \n",
    "\n",
    "If we consider a high risk aversion coefficient, the option price is not very sensitive to the drift. If instead we choose a small value of $\\gamma$, i.e. the investor is risk neutral, the drift plays the role of the risk neutral expected return $r$ and therefore changing $\\mu$, is like changing $r$.\n",
    "\n",
    "Following Hodges-Neuberger [2], in the practical computations **it is better to set $\\mu=r$.**"
   ]
  },
  {
   "cell_type": "code",
   "execution_count": 36,
   "metadata": {},
   "outputs": [
    {
     "data": {
      "image/png": "[encoded data removed]",
      "text/plain": [
       "<Figure size 432x288 with 1 Axes>"
      ]
     },
     "metadata": {
      "needs_background": "light"
     },
     "output_type": "display_data"
    }
   ],
   "source": [
    "price_mu1 = []; price_mu2 = []; mus = [0.01, 0.05, 0.1, 0.2, 0.3]\n",
    "TC.gamma = 1 # high value of risk aversion\n",
    "TC.cost_b=0.01; TC.cost_s=0.01\n",
    "\n",
    "for mu in mus:\n",
    "    TC.mu = mu\n",
    "    price_mu1.append(TC.price(N=400, TYPE=\"writer\")) \n",
    "    price_mu2.append(TC.price(N=400, TYPE=\"buyer\"))\n",
    "\n",
    "plt.plot(mus, price_mu1, color='green', marker='o',label=\"Writer\")\n",
    "plt.plot(mus, price_mu2, color='magenta', marker='*',label=\"Buyer\")\n",
    "plt.xlabel(\"mu\"); plt.ylabel(\"price\"); plt.legend()\n",
    "plt.show()"
   ]
  },
  {
   "cell_type": "markdown",
   "metadata": {},
   "source": [
    "### Other references\n",
    "\n",
    "[1] Cantarutti, N., Guerra, J., Guerra, M., and Grossinho, M. (2019). Option pricing in exponential Lévy models with transaction costs. [*ArXiv*](https://arxiv.org/abs/1611.00389). \n",
    "\n",
    "[2] Hodges, S. D. and Neuberger, A. (1989). Optimal replication of contingent claims under transaction costs. The Review of Future Markets, 8(2):222–239."
   ]
  }
 ],
 "metadata": {
  "kernelspec": {
   "display_name": "Python 3",
   "language": "python",
   "name": "python3"
  },
  "language_info": {
   "codemirror_mode": {
    "name": "ipython",
    "version": 3
   },
   "file_extension": ".py",
   "mimetype": "text/x-python",
   "name": "python",
   "nbconvert_exporter": "python",
   "pygments_lexer": "ipython3",
   "version": "3.7.3"
  }
 },
 "nbformat": 4,
 "nbformat_minor": 2
}
