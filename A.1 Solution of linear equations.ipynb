{
 "cells": [
  {
   "cell_type": "markdown",
   "metadata": {},
   "source": [
    "# Numerical algorithms by examples\n",
    "\n",
    "## Contents\n",
    "   - [LU decomposition](#sec1)\n",
    "   - [Jacobi method](#sec2)\n",
    "   - [Gauss-Seidel method](#sec3)\n",
    "   - [SOR method](#sec4)\n",
    "   - [Thomas algorithm](#sec5)"
   ]
  },
  {
   "cell_type": "code",
   "execution_count": 1,
   "metadata": {},
   "outputs": [],
   "source": [
    "import numpy as np\n",
    "import scipy as scp\n",
    "from scipy.linalg import solve_triangular\n",
    "from functions.Solvers import Thomas\n",
    "\n",
    "from IPython.display import display\n",
    "import sympy; sympy.init_printing()\n",
    "\n",
    "def display_matrix(m):\n",
    "    display(sympy.Matrix(m))"
   ]
  },
  {
   "cell_type": "markdown",
   "metadata": {},
   "source": [
    "The problem we want to solve in this notebook is very simple:\n",
    "$$ A x = b$$\n",
    "where A is a $n\\times n$ square matrix and b is a vector of dimension $n$. **Our goal is to find the $x$!**\n",
    "\n",
    "It is well known that the solution of this problem is simply:\n",
    "$$ x = A^{-1} b $$\n",
    "however, inverting a matrix is not (in general) a good idea.  \n",
    "Matrix inversion is a slow operation and there are plenty of algorithms that permit to solve the matrix equation with no matrix inversion.\n",
    "\n",
    "I will review the main methods by examples.   \n",
    "Let us choose the following values of $A$,$x$ and $b$: "
   ]
  },
  {
   "cell_type": "code",
   "execution_count": 2,
   "metadata": {},
   "outputs": [
    {
     "name": "stdout",
     "output_type": "stream",
     "text": [
      "Matrix A:\n"
     ]
    },
    {
     "data": {
      "image/png": "[encoded data removed]",
      "text/latex": [
       "$$\\left[\\begin{matrix}2 & 5 & 8 & 7\\\\5 & 2 & 2 & 8\\\\7 & 5 & 6 & 6\\\\5 & 4 & 4 & 8\\end{matrix}\\right]$$"
      ],
      "text/plain": [
       "⎡2  5  8  7⎤\n",
       "⎢          ⎥\n",
       "⎢5  2  2  8⎥\n",
       "⎢          ⎥\n",
       "⎢7  5  6  6⎥\n",
       "⎢          ⎥\n",
       "⎣5  4  4  8⎦"
      ]
     },
     "metadata": {},
     "output_type": "display_data"
    },
    {
     "name": "stdout",
     "output_type": "stream",
     "text": [
      "Vector x:\n"
     ]
    },
    {
     "data": {
      "image/png": "[encoded data removed]",
      "text/latex": [
       "$$\\left[\\begin{matrix}1\\\\2\\\\3\\\\4\\end{matrix}\\right]$$"
      ],
      "text/plain": [
       "⎡1⎤\n",
       "⎢ ⎥\n",
       "⎢2⎥\n",
       "⎢ ⎥\n",
       "⎢3⎥\n",
       "⎢ ⎥\n",
       "⎣4⎦"
      ]
     },
     "metadata": {},
     "output_type": "display_data"
    },
    {
     "name": "stdout",
     "output_type": "stream",
     "text": [
      "Vector b:\n"
     ]
    },
    {
     "data": {
      "image/png": "[encoded data removed]",
      "text/latex": [
       "$$\\left[\\begin{matrix}64\\\\47\\\\59\\\\57\\end{matrix}\\right]$$"
      ],
      "text/plain": [
       "⎡64⎤\n",
       "⎢  ⎥\n",
       "⎢47⎥\n",
       "⎢  ⎥\n",
       "⎢59⎥\n",
       "⎢  ⎥\n",
       "⎣57⎦"
      ]
     },
     "metadata": {},
     "output_type": "display_data"
    }
   ],
   "source": [
    "A = np.array([[2, 5, 8, 7], [5, 2, 2, 8], [7, 5, 6, 6], [5, 4, 4, 8]])\n",
    "x = np.array([[1],[2],[3],[4]])\n",
    "b = A @ x \n",
    "print(\"Matrix A:\"); display_matrix(A)\n",
    "print(\"Vector x:\"); display_matrix(x)\n",
    "print(\"Vector b:\"); display_matrix(b)"
   ]
  },
  {
   "cell_type": "markdown",
   "metadata": {},
   "source": [
    "The matrix A of this example is invertible!  \n",
    "We can check it is a full rank matrix and calculate (just for curiosity) its determinant."
   ]
  },
  {
   "cell_type": "code",
   "execution_count": 3,
   "metadata": {},
   "outputs": [
    {
     "name": "stdout",
     "output_type": "stream",
     "text": [
      "Rank: 4\n",
      "Determinant: 194.0\n"
     ]
    }
   ],
   "source": [
    "print(\"Rank:\", np.linalg.matrix_rank(A))\n",
    "print(\"Determinant:\", np.linalg.det(A).round(2))"
   ]
  },
  {
   "cell_type": "markdown",
   "metadata": {},
   "source": [
    "The first method I'm presenting, is forbidden!!   \n",
    "So... read it and then forget it."
   ]
  },
  {
   "cell_type": "code",
   "execution_count": 4,
   "metadata": {},
   "outputs": [
    {
     "name": "stdout",
     "output_type": "stream",
     "text": [
      "The inverse of A is:\n"
     ]
    },
    {
     "data": {
      "image/png": "[encoded data removed]",
      "text/latex": [
       "$$\\left[\\begin{matrix}-0.08 & 0.19 & 0.25 & -0.3\\\\-0.27 & -0.9 & -0.2 & 1.28\\\\0.27 & 0.4 & 0.2 & -0.78\\\\0.05 & 0.13 & -0.15 & 0.06\\end{matrix}\\right]$$"
      ],
      "text/plain": [
       "⎡-0.08  0.19  0.25   -0.3 ⎤\n",
       "⎢                         ⎥\n",
       "⎢-0.27  -0.9  -0.2   1.28 ⎥\n",
       "⎢                         ⎥\n",
       "⎢0.27   0.4    0.2   -0.78⎥\n",
       "⎢                         ⎥\n",
       "⎣0.05   0.13  -0.15  0.06 ⎦"
      ]
     },
     "metadata": {},
     "output_type": "display_data"
    },
    {
     "name": "stdout",
     "output_type": "stream",
     "text": [
      "The value of x, given by matrix multiplication 'x = inv(A) @ b' is:\n"
     ]
    },
    {
     "data": {
      "image/png": "[encoded data removed]",
      "text/latex": [
       "$$\\left[\\begin{matrix}1.0\\\\2.0\\\\3.0\\\\4.0\\end{matrix}\\right]$$"
      ],
      "text/plain": [
       "⎡1.0⎤\n",
       "⎢   ⎥\n",
       "⎢2.0⎥\n",
       "⎢   ⎥\n",
       "⎢3.0⎥\n",
       "⎢   ⎥\n",
       "⎣4.0⎦"
      ]
     },
     "metadata": {},
     "output_type": "display_data"
    }
   ],
   "source": [
    "inv_A = scp.linalg.inv(A)\n",
    "print(\"The inverse of A is:\")\n",
    "display_matrix(inv_A.round(2))\n",
    "print(\"The value of x, given by matrix multiplication 'x = inv(A) @ b' is:\") \n",
    "display_matrix((inv_A @ b).round(2))"
   ]
  },
  {
   "cell_type": "markdown",
   "metadata": {},
   "source": [
    "<a id='sec1'></a>\n",
    "## LU decomposition\n",
    "\n",
    "For more info about the theory of the LU decomposition, have a look at the wiki page [link](https://en.wikipedia.org/wiki/LU_decomposition)\n",
    "\n",
    "Let us have a look at the LU decomposition.  \n",
    "The matrix A is decomposed into the product of three matrices:\n",
    "$$ A = P L U $$\n",
    "where L and U are lower and upper triangular matrices, and P is a permutation matrix, which, reorders the rows of L@U. \n",
    "\n",
    "If you are not familiar with these concepts, they will be immediately clear after seeing them in practice.  \n",
    "Scipy offers 3 modules:\n",
    "- [scipy.linalg.lu](https://docs.scipy.org/doc/scipy/reference/generated/scipy.linalg.lu.html)\n",
    "- [scipy.linalg.lu_factor](https://docs.scipy.org/doc/scipy/reference/generated/scipy.linalg.lu_factor.html)\n",
    "- [scipy.linalg.lu_solve](https://docs.scipy.org/doc/scipy/reference/generated/scipy.linalg.lu_solve.html)"
   ]
  },
  {
   "cell_type": "code",
   "execution_count": 5,
   "metadata": {},
   "outputs": [
    {
     "name": "stdout",
     "output_type": "stream",
     "text": [
      "Lower triangular matrix:\n"
     ]
    },
    {
     "data": {
      "image/png": "[encoded data removed]",
      "text/latex": [
       "$$\\left[\\begin{matrix}1.0 & 0.0 & 0.0 & 0.0\\\\0.29 & 1.0 & 0.0 & 0.0\\\\0.71 & 0.12 & 1.0 & 0.0\\\\0.71 & -0.44 & -0.46 & 1.0\\end{matrix}\\right]$$"
      ],
      "text/plain": [
       "⎡1.0    0.0    0.0   0.0⎤\n",
       "⎢                       ⎥\n",
       "⎢0.29   1.0    0.0   0.0⎥\n",
       "⎢                       ⎥\n",
       "⎢0.71  0.12    1.0   0.0⎥\n",
       "⎢                       ⎥\n",
       "⎣0.71  -0.44  -0.46  1.0⎦"
      ]
     },
     "metadata": {},
     "output_type": "display_data"
    },
    {
     "name": "stdout",
     "output_type": "stream",
     "text": [
      "Upper triangular matrix:\n"
     ]
    },
    {
     "data": {
      "image/png": "[encoded data removed]",
      "text/latex": [
       "$$\\left[\\begin{matrix}7.0 & 5.0 & 6.0 & 6.0\\\\0.0 & 3.57 & 6.29 & 5.29\\\\0.0 & 0.0 & -1.04 & 3.08\\\\0.0 & 0.0 & 0.0 & 7.46\\end{matrix}\\right]$$"
      ],
      "text/plain": [
       "⎡7.0  5.0    6.0   6.0 ⎤\n",
       "⎢                      ⎥\n",
       "⎢0.0  3.57  6.29   5.29⎥\n",
       "⎢                      ⎥\n",
       "⎢0.0  0.0   -1.04  3.08⎥\n",
       "⎢                      ⎥\n",
       "⎣0.0  0.0    0.0   7.46⎦"
      ]
     },
     "metadata": {},
     "output_type": "display_data"
    },
    {
     "name": "stdout",
     "output_type": "stream",
     "text": [
      "Permutation matrix:\n"
     ]
    },
    {
     "data": {
      "image/png": "[encoded data removed]",
      "text/latex": [
       "$$\\left[\\begin{matrix}0.0 & 1.0 & 0.0 & 0.0\\\\0.0 & 0.0 & 0.0 & 1.0\\\\1.0 & 0.0 & 0.0 & 0.0\\\\0.0 & 0.0 & 1.0 & 0.0\\end{matrix}\\right]$$"
      ],
      "text/plain": [
       "⎡0.0  1.0  0.0  0.0⎤\n",
       "⎢                  ⎥\n",
       "⎢0.0  0.0  0.0  1.0⎥\n",
       "⎢                  ⎥\n",
       "⎢1.0  0.0  0.0  0.0⎥\n",
       "⎢                  ⎥\n",
       "⎣0.0  0.0  1.0  0.0⎦"
      ]
     },
     "metadata": {},
     "output_type": "display_data"
    },
    {
     "name": "stdout",
     "output_type": "stream",
     "text": [
      "Have we obtained the correct decomposition? True\n"
     ]
    }
   ],
   "source": [
    "P, L, U = scp.linalg.lu(A)\n",
    "print(\"Lower triangular matrix:\")\n",
    "display_matrix(L.round(2))\n",
    "print(\"Upper triangular matrix:\")\n",
    "display_matrix(U.round(2))\n",
    "print(\"Permutation matrix:\")\n",
    "display_matrix(P)\n",
    "print(\"Have we obtained the correct decomposition?\", np.allclose(P@L@U, A))"
   ]
  },
  {
   "cell_type": "markdown",
   "metadata": {},
   "source": [
    "Ok... But what is the Permutation matrix?    \n",
    "For more information on this subject have a look at the [wiki link](https://en.wikipedia.org/wiki/Permutation_matrix)\n",
    "\n",
    "We can see that the product L@U is almost equal to A, but the rows have a different order.  For this reason we need to multiply it by P which produces the desired permutation."
   ]
  },
  {
   "cell_type": "code",
   "execution_count": 6,
   "metadata": {},
   "outputs": [
    {
     "data": {
      "image/png": "[encoded data removed]",
      "text/latex": [
       "$$\\left[\\begin{matrix}7.0 & 5.0 & 6.0 & 6.0\\\\2.0 & 5.0 & 8.0 & 7.0\\\\5.0 & 4.0 & 4.0 & 8.0\\\\5.0 & 2.0 & 2.0 & 8.0\\end{matrix}\\right]$$"
      ],
      "text/plain": [
       "⎡7.0  5.0  6.0  6.0⎤\n",
       "⎢                  ⎥\n",
       "⎢2.0  5.0  8.0  7.0⎥\n",
       "⎢                  ⎥\n",
       "⎢5.0  4.0  4.0  8.0⎥\n",
       "⎢                  ⎥\n",
       "⎣5.0  2.0  2.0  8.0⎦"
      ]
     },
     "metadata": {},
     "output_type": "display_data"
    }
   ],
   "source": [
    "display_matrix(L@U)"
   ]
  },
  {
   "cell_type": "markdown",
   "metadata": {},
   "source": [
    "Let's have a deeper look.  \n",
    "The coordinates of the ones in the matrix P indicate the relation between the rows of A and the rows of L@U:  \n",
    "- (0,1) The first row of A corresponds to the second row of L@U; \n",
    "- (1,3) the second row of A correspond to the fourth of L@U; \n",
    "- (2,0) the third row of A corresponds to the first of L@U;\n",
    "- (3,2) the fourth of A corresponds to the third of L@U.  \n",
    "\n",
    "This is clear by looking at the columns of the matrix ```np.where(P==1)```."
   ]
  },
  {
   "cell_type": "code",
   "execution_count": 7,
   "metadata": {},
   "outputs": [
    {
     "data": {
      "image/png": "[encoded data removed]",
      "text/latex": [
       "$$\\left[\\begin{matrix}0 & 1 & 2 & 3\\\\1 & 3 & 0 & 2\\end{matrix}\\right]$$"
      ],
      "text/plain": [
       "⎡0  1  2  3⎤\n",
       "⎢          ⎥\n",
       "⎣1  3  0  2⎦"
      ]
     },
     "metadata": {},
     "output_type": "display_data"
    },
    {
     "name": "stdout",
     "output_type": "stream",
     "text": [
      "After the permutation the resulting matrix is equal to A:\n"
     ]
    },
    {
     "data": {
      "image/png": "[encoded data removed]",
      "text/latex": [
       "$$\\left[\\begin{matrix}2.0 & 5.0 & 8.0 & 7.0\\\\5.0 & 2.0 & 2.0 & 8.0\\\\7.0 & 5.0 & 6.0 & 6.0\\\\5.0 & 4.0 & 4.0 & 8.0\\end{matrix}\\right]$$"
      ],
      "text/plain": [
       "⎡2.0  5.0  8.0  7.0⎤\n",
       "⎢                  ⎥\n",
       "⎢5.0  2.0  2.0  8.0⎥\n",
       "⎢                  ⎥\n",
       "⎢7.0  5.0  6.0  6.0⎥\n",
       "⎢                  ⎥\n",
       "⎣5.0  4.0  4.0  8.0⎦"
      ]
     },
     "metadata": {},
     "output_type": "display_data"
    }
   ],
   "source": [
    "display_matrix(np.where(P==1))\n",
    "print(\"After the permutation the resulting matrix is equal to A:\")\n",
    "display_matrix( (L@U)[[1,3,0,2]] )"
   ]
  },
  {
   "cell_type": "markdown",
   "metadata": {},
   "source": [
    "The previous code is useful to obtain the decomposition.  \n",
    "Now we can solve the problem \n",
    "\n",
    "$$ PLU x = b $$\n",
    "\n",
    "using both forward (for L) and backward (for U) substitution.  \n",
    "Since permutation matrices are orthogonal matrices (i.e., $PP^T = I$) the inverse matrix exists and can be written as \n",
    "$$ P^{-1} = P^T $$\n",
    "and there is no need to perform a matrix inversion.\n",
    "\n",
    "The method **solve_triangular** performs the forward/backward substitution (it is a wrapper of the LAPACK function *trtrs*).  \n",
    "We can write:\n",
    "\n",
    "$$ L y = P^T b $$\n",
    "and\n",
    "$$ U x = y $$\n",
    "\n",
    "and solve it:"
   ]
  },
  {
   "cell_type": "code",
   "execution_count": 10,
   "metadata": {},
   "outputs": [
    {
     "data": {
      "image/png": "[encoded data removed]",
      "text/latex": [
       "$$\\left[\\begin{matrix}1.0\\\\2.0\\\\3.0\\\\4.0\\end{matrix}\\right]$$"
      ],
      "text/plain": [
       "⎡1.0⎤\n",
       "⎢   ⎥\n",
       "⎢2.0⎥\n",
       "⎢   ⎥\n",
       "⎢3.0⎥\n",
       "⎢   ⎥\n",
       "⎣4.0⎦"
      ]
     },
     "metadata": {},
     "output_type": "display_data"
    }
   ],
   "source": [
    "y = solve_triangular(L,P.T @ b, lower=True)\n",
    "x_solution = solve_triangular(U,y)  # by default it considers upper triangular matricies as input\n",
    "display_matrix(x_solution.round(2))"
   ]
  },
  {
   "cell_type": "markdown",
   "metadata": {},
   "source": [
    "#### Another LU solver\n",
    "A faster method to solve the linear equation using the LU decomposition is to use the **lu_factor** method (it is a wrapper of the LAPACK function getrf).   \n",
    "It returns two matrices\n",
    "- The first, LU,  is a matrix from which it is possible to derive easily the L and U matrices\n",
    "- The second, piv, corrsponds to the pivot indices of the permutation matrix P:  \n",
    "   In the matrix P, changing the row i with the row piv[i] (for all $0\\leq i\\leq 3$), produces the identity    matrix. The same permutation transforms A into L@U.  "
   ]
  },
  {
   "cell_type": "code",
   "execution_count": 11,
   "metadata": {},
   "outputs": [
    {
     "name": "stdout",
     "output_type": "stream",
     "text": [
      "Construction of the matrix L:\n"
     ]
    },
    {
     "data": {
      "image/png": "[encoded data removed]",
      "text/latex": [
       "$$\\left[\\begin{matrix}1.0 & 0.0 & 0.0 & 0.0\\\\0.29 & 1.0 & 0.0 & 0.0\\\\0.71 & 0.12 & 1.0 & 0.0\\\\0.71 & -0.44 & -0.46 & 1.0\\end{matrix}\\right]$$"
      ],
      "text/plain": [
       "⎡1.0    0.0    0.0   0.0⎤\n",
       "⎢                       ⎥\n",
       "⎢0.29   1.0    0.0   0.0⎥\n",
       "⎢                       ⎥\n",
       "⎢0.71  0.12    1.0   0.0⎥\n",
       "⎢                       ⎥\n",
       "⎣0.71  -0.44  -0.46  1.0⎦"
      ]
     },
     "metadata": {},
     "output_type": "display_data"
    },
    {
     "name": "stdout",
     "output_type": "stream",
     "text": [
      "Construction of the matrix U:\n"
     ]
    },
    {
     "data": {
      "image/png": "[encoded data removed]",
      "text/latex": [
       "$$\\left[\\begin{matrix}7.0 & 5.0 & 6.0 & 6.0\\\\0.0 & 3.57 & 6.29 & 5.29\\\\0.0 & 0.0 & -1.04 & 3.08\\\\0.0 & 0.0 & 0.0 & 7.46\\end{matrix}\\right]$$"
      ],
      "text/plain": [
       "⎡7.0  5.0    6.0   6.0 ⎤\n",
       "⎢                      ⎥\n",
       "⎢0.0  3.57  6.29   5.29⎥\n",
       "⎢                      ⎥\n",
       "⎢0.0  0.0   -1.04  3.08⎥\n",
       "⎢                      ⎥\n",
       "⎣0.0  0.0    0.0   7.46⎦"
      ]
     },
     "metadata": {},
     "output_type": "display_data"
    },
    {
     "name": "stdout",
     "output_type": "stream",
     "text": [
      "piv vector:\n"
     ]
    },
    {
     "data": {
      "image/png": "[encoded data removed]",
      "text/latex": [
       "$$\\left[\\begin{matrix}2\\\\2\\\\3\\\\3\\end{matrix}\\right]$$"
      ],
      "text/plain": [
       "⎡2⎤\n",
       "⎢ ⎥\n",
       "⎢2⎥\n",
       "⎢ ⎥\n",
       "⎢3⎥\n",
       "⎢ ⎥\n",
       "⎣3⎦"
      ]
     },
     "metadata": {},
     "output_type": "display_data"
    }
   ],
   "source": [
    "LU, piv = scp.linalg.lu_factor(A)\n",
    "print(\"Construction of the matrix L:\")\n",
    "display_matrix((np.tril(LU, k=-1) + np.eye(4)).round(2) ) \n",
    "print(\"Construction of the matrix U:\")\n",
    "display_matrix(np.triu(LU).round(2))\n",
    "print(\"piv vector:\")\n",
    "display_matrix(piv)"
   ]
  },
  {
   "cell_type": "code",
   "execution_count": 12,
   "metadata": {},
   "outputs": [
    {
     "name": "stdout",
     "output_type": "stream",
     "text": [
      "Product of L@U:\n"
     ]
    },
    {
     "data": {
      "image/png": "[encoded data removed]",
      "text/latex": [
       "$$\\left[\\begin{matrix}7.0 & 5.0 & 6.0 & 6.0\\\\2.0 & 5.0 & 8.0 & 7.0\\\\5.0 & 4.0 & 4.0 & 8.0\\\\5.0 & 2.0 & 2.0 & 8.0\\end{matrix}\\right]$$"
      ],
      "text/plain": [
       "⎡7.0  5.0  6.0  6.0⎤\n",
       "⎢                  ⎥\n",
       "⎢2.0  5.0  8.0  7.0⎥\n",
       "⎢                  ⎥\n",
       "⎢5.0  4.0  4.0  8.0⎥\n",
       "⎢                  ⎥\n",
       "⎣5.0  2.0  2.0  8.0⎦"
      ]
     },
     "metadata": {},
     "output_type": "display_data"
    },
    {
     "name": "stdout",
     "output_type": "stream",
     "text": [
      "The matrix A after the permutations indicated by piv:\n"
     ]
    },
    {
     "data": {
      "image/png": "[encoded data removed]",
      "text/latex": [
       "$$\\left[\\begin{matrix}7 & 5 & 6 & 6\\\\2 & 5 & 8 & 7\\\\5 & 4 & 4 & 8\\\\5 & 2 & 2 & 8\\end{matrix}\\right]$$"
      ],
      "text/plain": [
       "⎡7  5  6  6⎤\n",
       "⎢          ⎥\n",
       "⎢2  5  8  7⎥\n",
       "⎢          ⎥\n",
       "⎢5  4  4  8⎥\n",
       "⎢          ⎥\n",
       "⎣5  2  2  8⎦"
      ]
     },
     "metadata": {},
     "output_type": "display_data"
    }
   ],
   "source": [
    "# Permutation of A in order to obtain L@U:\n",
    "temp_A = list(A)\n",
    "for i,j in enumerate(piv):\n",
    "    temp_A[i], temp_A[j] = temp_A[j], temp_A[i]  # swap row i with row j=piv[i]\n",
    "    \n",
    "print(\"Product of L@U:\")\n",
    "display_matrix(L@U)\n",
    "print(\"The matrix A after the permutations indicated by piv:\")\n",
    "display_matrix(np.array(temp_A))"
   ]
  },
  {
   "cell_type": "markdown",
   "metadata": {},
   "source": [
    "#### Solution\n",
    "\n",
    "The solution of the linear system of equation can be obtained by feeding the output of lu_factor into the method **lu_solve** (which is a wrapper of the LAPACK function getrf)."
   ]
  },
  {
   "cell_type": "code",
   "execution_count": 13,
   "metadata": {},
   "outputs": [
    {
     "name": "stdout",
     "output_type": "stream",
     "text": [
      "The value of x is:\n"
     ]
    },
    {
     "data": {
      "image/png": "[encoded data removed]",
      "text/latex": [
       "$$\\left[\\begin{matrix}1.0\\\\2.0\\\\3.0\\\\4.0\\end{matrix}\\right]$$"
      ],
      "text/plain": [
       "⎡1.0⎤\n",
       "⎢   ⎥\n",
       "⎢2.0⎥\n",
       "⎢   ⎥\n",
       "⎢3.0⎥\n",
       "⎢   ⎥\n",
       "⎣4.0⎦"
      ]
     },
     "metadata": {},
     "output_type": "display_data"
    }
   ],
   "source": [
    "x = scp.linalg.lu_solve((LU, piv), b)\n",
    "print(\"The value of x is:\")\n",
    "display_matrix(x.round(2))"
   ]
  },
  {
   "cell_type": "markdown",
   "metadata": {},
   "source": [
    "<a id='sec2'></a>\n",
    "## Jacobi method\n",
    "\n",
    "This is an iterative method.   \n",
    "The idea is to write the matrix $A = D + R$ as the sum of a diagonal matrix D and a \"reminder\" R (a matrix with only zeros in the diagonal).\n",
    "\n",
    "$$ (D+R) x = b $$\n",
    "\n",
    "$$ Dx = b - Rx$$\n",
    "\n",
    "Using this idea, we can start with a guess solution $x^0$ and then iterate until $||x^{n+1}-x^n|| < \\epsilon$.\n",
    "\n",
    "$$ x^{n+1} = D^{-1} (b - Rx^{n})$$\n",
    "\n",
    "The Jacobi and Gauss–Seidel methods converge if the matrix A is strictly diagonally dominant:\n",
    "\n",
    "$$ |a_{i,i}| > \\sum_{i \\not= j} |a_{i,j}| $$\n",
    "where $a_{i,j}$ are the entries of A.\n",
    "\n",
    "For more info on the Jacobi method have a look at the wiki page [link](https://en.wikipedia.org/wiki/Jacobi_method).\n",
    "\n",
    "#### New example:\n",
    "Since the matrix A in the previous example is not diagonally dominant, let us define a new A, and therefore a new b as well. I like x=[1,2,3,4]."
   ]
  },
  {
   "cell_type": "code",
   "execution_count": 2,
   "metadata": {},
   "outputs": [
    {
     "name": "stdout",
     "output_type": "stream",
     "text": [
      "Matrix A with Rank:  4\n"
     ]
    },
    {
     "data": {
      "image/png": "[encoded data removed]",
      "text/latex": [
       "$$\\left[\\begin{matrix}10 & 5 & 2 & 1\\\\2 & 15 & 2 & 3\\\\1 & 8 & 13 & 1\\\\2 & 3 & 1 & 8\\end{matrix}\\right]$$"
      ],
      "text/plain": [
       "⎡10  5   2   1⎤\n",
       "⎢             ⎥\n",
       "⎢2   15  2   3⎥\n",
       "⎢             ⎥\n",
       "⎢1   8   13  1⎥\n",
       "⎢             ⎥\n",
       "⎣2   3   1   8⎦"
      ]
     },
     "metadata": {},
     "output_type": "display_data"
    },
    {
     "name": "stdout",
     "output_type": "stream",
     "text": [
      "b:\n"
     ]
    },
    {
     "data": {
      "image/png": "[encoded data removed]",
      "text/latex": [
       "$$\\left[\\begin{matrix}30\\\\50\\\\60\\\\43\\end{matrix}\\right]$$"
      ],
      "text/plain": [
       "⎡30⎤\n",
       "⎢  ⎥\n",
       "⎢50⎥\n",
       "⎢  ⎥\n",
       "⎢60⎥\n",
       "⎢  ⎥\n",
       "⎣43⎦"
      ]
     },
     "metadata": {},
     "output_type": "display_data"
    },
    {
     "name": "stdout",
     "output_type": "stream",
     "text": [
      "D:\n"
     ]
    },
    {
     "data": {
      "image/png": "[encoded data removed]",
      "text/latex": [
       "$$\\left[\\begin{matrix}10.0 & 0.0 & 0.0 & 0.0\\\\0.0 & 15.0 & 0.0 & 0.0\\\\0.0 & 0.0 & 13.0 & 0.0\\\\0.0 & 0.0 & 0.0 & 8.0\\end{matrix}\\right]$$"
      ],
      "text/plain": [
       "⎡10.0  0.0   0.0   0.0⎤\n",
       "⎢                     ⎥\n",
       "⎢0.0   15.0  0.0   0.0⎥\n",
       "⎢                     ⎥\n",
       "⎢0.0   0.0   13.0  0.0⎥\n",
       "⎢                     ⎥\n",
       "⎣0.0   0.0   0.0   8.0⎦"
      ]
     },
     "metadata": {},
     "output_type": "display_data"
    },
    {
     "name": "stdout",
     "output_type": "stream",
     "text": [
      "R:\n"
     ]
    },
    {
     "data": {
      "image/png": "[encoded data removed]",
      "text/latex": [
       "$$\\left[\\begin{matrix}0.0 & 5.0 & 2.0 & 1.0\\\\2.0 & 0.0 & 2.0 & 3.0\\\\1.0 & 8.0 & 0.0 & 1.0\\\\2.0 & 3.0 & 1.0 & 0.0\\end{matrix}\\right]$$"
      ],
      "text/plain": [
       "⎡0.0  5.0  2.0  1.0⎤\n",
       "⎢                  ⎥\n",
       "⎢2.0  0.0  2.0  3.0⎥\n",
       "⎢                  ⎥\n",
       "⎢1.0  8.0  0.0  1.0⎥\n",
       "⎢                  ⎥\n",
       "⎣2.0  3.0  1.0  0.0⎦"
      ]
     },
     "metadata": {},
     "output_type": "display_data"
    }
   ],
   "source": [
    "A = np.array([[10, 5, 2, 1], [2, 15, 2, 3], [1, 8, 13, 1], [2, 3, 1, 8]]) \n",
    "print(\"Matrix A with Rank: \",np.linalg.matrix_rank(A))\n",
    "display_matrix(A)\n",
    "x = np.array([[1],[2],[3],[4]])\n",
    "print(\"b:\")\n",
    "b = A @ x\n",
    "display_matrix(b)\n",
    "\n",
    "D = np.eye(A.shape[0]) * np.diag(A)       # diagonal\n",
    "D_inv = np.eye(A.shape[0]) * 1/np.diag(A) # inverse of D \n",
    "R = A - D                                 # remainder\n",
    "print(\"D:\")\n",
    "display_matrix(D)\n",
    "print(\"R:\")\n",
    "display_matrix(R)"
   ]
  },
  {
   "cell_type": "markdown",
   "metadata": {},
   "source": [
    "#### Comment\n",
    "Notice that we do not need to invert the matrix D.  \n",
    "Since D is a diagonal matrix, we can just invert the elements of the diagonal. This is a much more efficient method."
   ]
  },
  {
   "cell_type": "code",
   "execution_count": 150,
   "metadata": {},
   "outputs": [
    {
     "name": "stdout",
     "output_type": "stream",
     "text": [
      "Convergence in 56 iterations:\n",
      "x = \n"
     ]
    },
    {
     "data": {
      "image/png": "[encoded data removed]",
      "text/latex": [
       "$$\\left[\\begin{matrix}1.0\\\\2.0\\\\3.0\\\\4.0\\end{matrix}\\right]$$"
      ],
      "text/plain": [
       "⎡1.0⎤\n",
       "⎢   ⎥\n",
       "⎢2.0⎥\n",
       "⎢   ⎥\n",
       "⎢3.0⎥\n",
       "⎢   ⎥\n",
       "⎣4.0⎦"
      ]
     },
     "metadata": {},
     "output_type": "display_data"
    }
   ],
   "source": [
    "x0 = np.ones_like( b )          # initial guess\n",
    "eps = 1e-10                     # tolerance error  \n",
    "N_max = 100                     # max number of iterations\n",
    "\n",
    "for i in range(1,N_max+1):\n",
    "    x_new = D_inv @ ( b - R @ x0 )\n",
    "    if scp.linalg.norm(x_new - x0) < eps:\n",
    "        print(\"Convergence in {} iterations:\".format(i))\n",
    "        break\n",
    "    x0 = x_new\n",
    "    if i==N_max:\n",
    "        print(\"Fail to converge in {} iterations\".format(i))\n",
    "print(\"x = \")    \n",
    "display_matrix(x_new.round(2))"
   ]
  },
  {
   "cell_type": "markdown",
   "metadata": {},
   "source": [
    "<a id='sec3'></a>\n",
    "## Gauss-Seidel method\n",
    "\n",
    "This method is very similar to the Jacobi method. It is again an iterative method.   \n",
    "The idea is to write the matrix $A = L + U$ as the sum of a lower triangular matrix L and a strictly upper triangular matrix U.\n",
    "\n",
    "$$ (L+U) x = b $$\n",
    "\n",
    "$$ Lx = b - Ux$$\n",
    "\n",
    "Like in the Jacobi method we look for an approximate solution $x^{n+1}$, and iterate until $||x^{n+1}-x^n|| < \\epsilon$.\n",
    "\n",
    "$$ x^{n+1} = L^{-1} (b - Ux^{n})$$\n",
    "\n",
    "Again, given the specific form of the matrices L and U, we don't need to invert any matrix.  \n",
    "We will just use the forward substitution.\n",
    "\n",
    "For more info on the Gauss-Seidel method have a look at the wiki page [link](https://en.wikipedia.org/wiki/Gauss%E2%80%93Seidel_method).\n",
    "\n",
    "Let us consider the same A,x,b as in the previous example:"
   ]
  },
  {
   "cell_type": "code",
   "execution_count": 148,
   "metadata": {},
   "outputs": [],
   "source": [
    "U = np.triu(A, k=1)             # Matrix U       \n",
    "L = np.tril(A)                  # Matrix L"
   ]
  },
  {
   "cell_type": "code",
   "execution_count": 149,
   "metadata": {},
   "outputs": [
    {
     "name": "stdout",
     "output_type": "stream",
     "text": [
      "Convergence in 15 iterations:\n",
      "x = \n"
     ]
    },
    {
     "data": {
      "image/png": "[encoded data removed]",
      "text/latex": [
       "$$\\left[\\begin{matrix}1.0\\\\2.0\\\\3.0\\\\4.0\\end{matrix}\\right]$$"
      ],
      "text/plain": [
       "⎡1.0⎤\n",
       "⎢   ⎥\n",
       "⎢2.0⎥\n",
       "⎢   ⎥\n",
       "⎢3.0⎥\n",
       "⎢   ⎥\n",
       "⎣4.0⎦"
      ]
     },
     "metadata": {},
     "output_type": "display_data"
    }
   ],
   "source": [
    "x0 = np.ones_like( b )          # initial guess\n",
    "eps = 1e-10                     # tolerance error  \n",
    "N_max = 100                     # max number of iterations\n",
    "\n",
    "for i in range(1,N_max+1):\n",
    "    x_new = solve_triangular(L, (b - U @ x0), lower=True)\n",
    "    if scp.linalg.norm(x_new - x0) < eps:\n",
    "        print(\"Convergence in {} iterations:\".format(i))\n",
    "        break\n",
    "    x0 = x_new\n",
    "    if i==N_max:\n",
    "        print(\"Fail to converge in {} iterations\".format(i))\n",
    "print(\"x = \")    \n",
    "display_matrix(x_new.round(2))"
   ]
  },
  {
   "cell_type": "markdown",
   "metadata": {},
   "source": [
    "#### Comment:\n",
    "The Gauss-Seidel algorithm converges much faster than the Jacobi method (15 iterations agains 56)."
   ]
  },
  {
   "cell_type": "markdown",
   "metadata": {},
   "source": [
    "<a id='sec4'></a>\n",
    "## SOR (successive over-relaxation) \n",
    "\n",
    "\n",
    "This is another improvement of the previous methods.   \n",
    "Let's write the matrix $A = L + U + D$ as the sum of a strictly lower triangular matrix L, a strictly upper triangular matrix U and a diagonal matrix D.\n",
    "\n",
    "$$ (L+U+D) x = b $$\n",
    "\n",
    "$$ w (L+U+D) x = w b $$\n",
    "\n",
    "$$ w L x = w b - w D x - w U x \\pm D x $$\n",
    "\n",
    "$$ (w L + D) x = w b - \\bigl( w U + (w - 1) D \\bigr)  x $$\n",
    "\n",
    "As in the previous methods, given the specific form of the matrices, we don't need to invert any matrix.  The iterative method is the following:\n",
    "\n",
    "$$ x^{n+1} = (w L + D)^{-1} \\biggl( w b - \\bigl( w U + (w - 1) D \\bigr)  x^n \\biggr) $$\n",
    "\n",
    "For more info on the SOR method have a look at the wiki page [link](https://en.wikipedia.org/wiki/Successive_over-relaxation)."
   ]
  },
  {
   "cell_type": "code",
   "execution_count": 146,
   "metadata": {},
   "outputs": [],
   "source": [
    "D = np.eye(A.shape[0]) * np.diag(A)       # diagonal\n",
    "U = np.triu(A, k=1)                       # Strict U       \n",
    "L = np.tril(A, k=-1)                      # Strict L"
   ]
  },
  {
   "cell_type": "code",
   "execution_count": 147,
   "metadata": {},
   "outputs": [
    {
     "name": "stdout",
     "output_type": "stream",
     "text": [
      "Convergence in 34 iterations:\n",
      "x = \n"
     ]
    },
    {
     "data": {
      "image/png": "[encoded data removed]",
      "text/latex": [
       "$$\\left[\\begin{matrix}1.0\\\\2.0\\\\3.0\\\\4.0\\end{matrix}\\right]$$"
      ],
      "text/plain": [
       "⎡1.0⎤\n",
       "⎢   ⎥\n",
       "⎢2.0⎥\n",
       "⎢   ⎥\n",
       "⎢3.0⎥\n",
       "⎢   ⎥\n",
       "⎣4.0⎦"
      ]
     },
     "metadata": {},
     "output_type": "display_data"
    }
   ],
   "source": [
    "x0 = np.ones_like( b )          # initial guess\n",
    "eps = 1e-10                     # tolerance error  \n",
    "N_max = 100                     # max number of iterations\n",
    "w = 1.4                         # relaxation factor\n",
    "\n",
    "for i in range(1,N_max+1):\n",
    "    x_new = solve_triangular( (w*L + D), (w*b - w*U@x0 - (w-1)*D@x0), lower=True)\n",
    "    if scp.linalg.norm(x_new - x0) < eps:\n",
    "        print(\"Convergence in {} iterations:\".format(i))\n",
    "        break\n",
    "    x0 = x_new\n",
    "    if i==N_max:\n",
    "        print(\"Fail to converge in {} iterations\".format(i))\n",
    "print(\"x = \")    \n",
    "display_matrix(x_new.round(2))"
   ]
  },
  {
   "cell_type": "markdown",
   "metadata": {},
   "source": [
    "By changing the *relaxation parameter* we can see how the number of iterations changes.  \n",
    "The relaxation must satisfy $0<w<2$.  \n",
    "It seems that in this case the optimal value of $w$ is 1 and the minimum number of iterations is 15.  \n",
    "The Gauss-Seidel algorithm is a special case of the SOR algorithm, with w=1!"
   ]
  },
  {
   "cell_type": "markdown",
   "metadata": {},
   "source": [
    "<a id='sec5'></a>\n",
    "## Thomas algorithm\n",
    "\n",
    "The Thomas algorithm is a simplified form of Gaussian elimination that is used to solve tridiagonal systems of equations.   \n",
    "Have a look at the wiki page: [TDMA](https://en.wikipedia.org/wiki/Tridiagonal_matrix_algorithm)\n",
    "\n",
    "The idea is simply to transform the matrix A into a triagonal matrix and then use backward substitution.\n",
    "\n",
    "Here we consider the single coefficients of the linear system instead of performing matrix operations like in the previous algorithms.  \n",
    "\n",
    "$$ a_i x_{i-1} + b_i x_{i} + c_i x_{i+1} = d_i $$\n",
    "\n",
    "The algorithm we implement is the following (taken from wikipedia):\n",
    "\n",
    "$$ w_i = \\frac{a_i}{b_{i-1}} $$\n",
    "\n",
    "$$ b_i = b_i - w_i c_{i-1} $$\n",
    "\n",
    "$$ d_i = d_i - w_i d_{i-1} $$\n",
    "\n",
    "and then we perform backward substitution:\n",
    "\n",
    "$$ x_n = \\frac{d_n}{b_n} $$\n",
    "\n",
    "$$ x_i = \\frac{d_i - c_i x_{i+1}}{b_i} $$\n",
    "\n",
    "Let us introduce a new matrix A wich is tridiagonal. Of course we like to keep the ```x = [1,2,3,4]``` "
   ]
  },
  {
   "cell_type": "code",
   "execution_count": 2,
   "metadata": {},
   "outputs": [
    {
     "name": "stdout",
     "output_type": "stream",
     "text": [
      "Matrix A with Rank:  4\n"
     ]
    },
    {
     "data": {
      "image/png": "[encoded data removed]",
      "text/latex": [
       "$$\\left[\\begin{matrix}10 & 5 & 0 & 0\\\\2 & 15 & 2 & 0\\\\0 & 8 & 13 & 1\\\\0 & 0 & 1 & 8\\end{matrix}\\right]$$"
      ],
      "text/plain": [
       "⎡10  5   0   0⎤\n",
       "⎢             ⎥\n",
       "⎢2   15  2   0⎥\n",
       "⎢             ⎥\n",
       "⎢0   8   13  1⎥\n",
       "⎢             ⎥\n",
       "⎣0   0   1   8⎦"
      ]
     },
     "metadata": {},
     "output_type": "display_data"
    },
    {
     "name": "stdout",
     "output_type": "stream",
     "text": [
      "b:\n"
     ]
    },
    {
     "data": {
      "image/png": "[encoded data removed]",
      "text/latex": [
       "$$\\left[\\begin{matrix}20\\\\38\\\\59\\\\35\\end{matrix}\\right]$$"
      ],
      "text/plain": [
       "⎡20⎤\n",
       "⎢  ⎥\n",
       "⎢38⎥\n",
       "⎢  ⎥\n",
       "⎢59⎥\n",
       "⎢  ⎥\n",
       "⎣35⎦"
      ]
     },
     "metadata": {},
     "output_type": "display_data"
    }
   ],
   "source": [
    "A = np.array([[10, 5, 0, 0], [2, 15, 2, 0], [0, 8, 13, 1], [0, 0, 1, 8]]) \n",
    "print(\"Matrix A with Rank: \", np.linalg.matrix_rank(A))\n",
    "display_matrix(A)\n",
    "print(\"b:\")\n",
    "x = np.array([[1],[2],[3],[4]])\n",
    "b = A @ x\n",
    "display_matrix(b)"
   ]
  },
  {
   "cell_type": "code",
   "execution_count": 3,
   "metadata": {},
   "outputs": [],
   "source": [
    "## TDMA:  Tri-Diagonal-Matrix-Algorithm solver\n",
    "def TDMA(A,B):\n",
    " \n",
    "    N = len(B) # number of equations\n",
    "    a = A.diagonal(offset=-1).copy()  # need to copy because the array is not writable\n",
    "    b = A.diagonal(offset=0).copy()   # see A.diagonal(offset=0).flags \n",
    "    c = A.diagonal(offset=1).copy()\n",
    "    d = B.copy()\n",
    "    x = np.ones_like(d)  # initialize x \n",
    "    \n",
    "    # Overwright coefficients\n",
    "    for i in range(1, N):\n",
    "        w = a[i-1]/b[i-1]\n",
    "        b[i] = b[i] - w * c[i-1]\n",
    "        d[i] = d[i] - w * d[i-1]\n",
    "        \n",
    "    # backward substitution \n",
    "    x[-1] = d[-1]/b[-1]\n",
    "    for i in range(N-2, -1, -1):\n",
    "        x[i] = (d[i] - c[i]*x[i+1] )/ b[i]\n",
    " \n",
    "    return x"
   ]
  },
  {
   "cell_type": "code",
   "execution_count": 4,
   "metadata": {},
   "outputs": [
    {
     "name": "stdout",
     "output_type": "stream",
     "text": [
      "x= \n"
     ]
    },
    {
     "data": {
      "image/png": "[encoded data removed]",
      "text/latex": [
       "$$\\left[\\begin{matrix}1\\\\2\\\\3\\\\4\\end{matrix}\\right]$$"
      ],
      "text/plain": [
       "⎡1⎤\n",
       "⎢ ⎥\n",
       "⎢2⎥\n",
       "⎢ ⎥\n",
       "⎢3⎥\n",
       "⎢ ⎥\n",
       "⎣4⎦"
      ]
     },
     "metadata": {},
     "output_type": "display_data"
    }
   ],
   "source": [
    "x_sol = TDMA(A,b)\n",
    "print(\"x= \"); display_matrix(x_sol)"
   ]
  },
  {
   "cell_type": "markdown",
   "metadata": {},
   "source": [
    "#### Ok, I know the previous code is not very efficient! \n",
    "I just wanted to prove that the algorithms work. \n",
    "\n",
    "In order to show how slow is python code compared to routines that call optimized C/fortran, I wrote a wrapper for the LAPACK function **dgtsv** which implements the Thomas algorithm. I called this function *\"Thomas\"*.  \n",
    "You can see that it is about **8 times much faster** than the function I wrote above.\n",
    "\n",
    "On this topic, I wrote an entire notebook about code optimization and speed up. (notebook **A2**)"
   ]
  },
  {
   "cell_type": "code",
   "execution_count": 5,
   "metadata": {},
   "outputs": [
    {
     "name": "stdout",
     "output_type": "stream",
     "text": [
      "Solution of Ax=b with the LAPACK function dgtsv. \n",
      " x= \n"
     ]
    },
    {
     "data": {
      "image/png": "[encoded data removed]",
      "text/latex": [
       "$$\\left[\\begin{matrix}1.0\\\\2.0\\\\3.0\\\\4.0\\end{matrix}\\right]$$"
      ],
      "text/plain": [
       "⎡1.0⎤\n",
       "⎢   ⎥\n",
       "⎢2.0⎥\n",
       "⎢   ⎥\n",
       "⎢3.0⎥\n",
       "⎢   ⎥\n",
       "⎣4.0⎦"
      ]
     },
     "metadata": {},
     "output_type": "display_data"
    }
   ],
   "source": [
    "print(\"Solution of Ax=b with the LAPACK function dgtsv. \\n x= \")\n",
    "display_matrix(Thomas(A,b))"
   ]
  },
  {
   "cell_type": "code",
   "execution_count": 155,
   "metadata": {},
   "outputs": [
    {
     "name": "stdout",
     "output_type": "stream",
     "text": [
      "40.2 µs ± 735 ns per loop (mean ± std. dev. of 7 runs, 10000 loops each)\n"
     ]
    }
   ],
   "source": [
    "%%timeit \n",
    "TDMA(A,b)"
   ]
  },
  {
   "cell_type": "code",
   "execution_count": 131,
   "metadata": {},
   "outputs": [
    {
     "name": "stdout",
     "output_type": "stream",
     "text": [
      "5.58 µs ± 91.7 ns per loop (mean ± std. dev. of 7 runs, 100000 loops each)\n"
     ]
    }
   ],
   "source": [
    "%%timeit \n",
    "Thomas(A,b)"
   ]
  }
 ],
 "metadata": {
  "kernelspec": {
   "display_name": "Python 3",
   "language": "python",
   "name": "python3"
  },
  "language_info": {
   "codemirror_mode": {
    "name": "ipython",
    "version": 3
   },
   "file_extension": ".py",
   "mimetype": "text/x-python",
   "name": "python",
   "nbconvert_exporter": "python",
   "pygments_lexer": "ipython3",
   "version": "3.7.3"
  }
 },
 "nbformat": 4,
 "nbformat_minor": 2
}
