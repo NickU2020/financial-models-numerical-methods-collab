{
 "cells": [
  {
   "cell_type": "markdown",
   "metadata": {},
   "source": [
    "# Normal Inverse Gaussian Process\n",
    "\n",
    "\n",
    "## Contents\n",
    "   - [Numerical methods for option pricing](#sec1)\n",
    "   - [The NIG PIDE method](#sec2)\n",
    "     - [The Lévy measure](#sec2.1)\n",
    "     - [The PIDE](#sec2.2) \n",
    "\n",
    "The methods used in this notebook are basically the same presented in the notebook **3.2**.     \n",
    "As you probably have noticed, reading the notebook **5.1**, the NIG process is very similar to the VG process.      They are both obtained by Brownian subordination. They both depend on three variables. Their distribution is quite similar.   \n",
    "\n",
    "Of course, the numerical methods for option pricing must be identical as well."
   ]
  },
  {
   "cell_type": "code",
   "execution_count": 3,
   "metadata": {},
   "outputs": [],
   "source": [
    "import numpy as np\n",
    "import scipy as scp\n",
    "import scipy.stats as ss\n",
    "import scipy.special as scps\n",
    "import matplotlib.pyplot as plt\n",
    "from functools import partial\n",
    "from scipy.integrate import quad\n",
    "\n",
    "from functions.probabilities import Q1, Q2\n",
    "from functions.CF import cf_NIG"
   ]
  },
  {
   "cell_type": "code",
   "execution_count": 4,
   "metadata": {},
   "outputs": [],
   "source": [
    "T = 1                    # terminal time \n",
    "N= 10000000              # number of generated random variables\n",
    "S0 = 100.0               # initial price\n",
    "K = 100.0                # strike \n",
    "k = np.log(K/S0)         # log moneyness\n",
    "\n",
    "r = 0.1\n",
    "theta = -0.11          # drift of the Brownian motion \n",
    "sigma = 0.2            # volatility of the Brownian motion\n",
    "kappa = 0.3            # variance of the IG process\n",
    "lam = T**2 / kappa     # scale\n",
    "mu_s = T / lam         # scaled mu\n",
    "\n",
    "w = ( 1 - np.sqrt( 1 - 2*theta*kappa -kappa*sigma**2) )/kappa  # Martingale correction\n",
    "dev_X = np.sqrt(sigma**2 + theta**2 * kappa)                   # std dev NIG process"
   ]
  },
  {
   "cell_type": "markdown",
   "metadata": {},
   "source": [
    "Let me recall the derivation of some formulas:\n",
    "\n",
    "##### Mean and Variance: \n",
    "Using the Brownian subordination expression for the NIG process (where $T_t \\sim IG(t,\\kappa t)$), we get\n",
    "\n",
    "$$ \\mathbb{E}[X_t] = \\mathbb{E}[\\theta T_t + \\sigma W_{T_t}] = \\theta \\mathbb{E}[T_t] + 0 = \\theta t.$$\n",
    "\n",
    "where I used the [Tower property](https://en.wikipedia.org/wiki/Law_of_total_expectation), and\n",
    "\n",
    "$$ \\mbox{Var}[X_t] = \\mbox{Var}[\\theta T_t + \\sigma W_{T_t}] = \\theta^2 \\mbox{Var}[T_t] + \n",
    "\\sigma^2 \\mbox{Var}[W_{T_t}] = (\\theta^2 \\kappa + \\sigma^2) t. $$\n",
    "\n",
    "where for the term $\\mbox{Var}[W_{T_t}]$ I used the [conditional variance](https://en.wikipedia.org/wiki/Law_of_total_variance) formula.\n",
    "\n",
    "##### Martingale correction:\n",
    "\n",
    "The idea is to find the correction term $w$ such that the process $e^{-rt}S_t$ is a martingale. The stock process has dynamics $S_t = S_0 e^{rt - wt + X_t}$.     \n",
    "We have that\n",
    "\n",
    "$$ \\mathbb{E}[ e^{-rt} S_0 e^{rt - wt + X_t} ] = S_0$$\n",
    "\n",
    "$$ \\mathbb{E}[ e^{-wt + X_t}] = 1$$\n",
    "\n",
    "$$ e^{wt} = \\mathbb{E}[ e^{X_t}] $$\n",
    "\n",
    "$$ w = \\log( \\phi(-i) ) \\quad \\quad \\mbox{for} \\quad t=1  $$"
   ]
  },
  {
   "cell_type": "code",
   "execution_count": 52,
   "metadata": {},
   "outputs": [
    {
     "name": "stdout",
     "output_type": "stream",
     "text": [
      "The martingale correction w=-0.088817 can be computed from the CF as: \n",
      "(-0.088817+0j)\n"
     ]
    }
   ],
   "source": [
    "print(\"The martingale correction w={0:.6f} can be computed from the CF as: \".format(w))\n",
    "print( np.log(cf_NIG( -1j, t=1, mu=0, theta=theta, sigma=sigma, kappa=kappa )).round(6) )"
   ]
  },
  {
   "cell_type": "markdown",
   "metadata": {},
   "source": [
    "<a id='sec1'></a>\n",
    "\n",
    "# Numerical methods\n",
    "\n",
    "##### Monte Carlo"
   ]
  },
  {
   "cell_type": "code",
   "execution_count": 55,
   "metadata": {},
   "outputs": [
    {
     "name": "stdout",
     "output_type": "stream",
     "text": [
      "Monte Carlo, call: 13.429721691441594, std err: 0.0049326098983063895\n",
      "Monte Carlo, put: 3.915092184682041, std_err: 0.0025466749195472587\n"
     ]
    }
   ],
   "source": [
    "np.random.seed(seed=42) \n",
    "IG = ss.invgauss.rvs(mu=mu_s, scale=lam, size=N)    # The IG RV\n",
    "Norm = ss.norm.rvs(0,1,N)                           # The normal RV  \n",
    "X = theta * IG + sigma * np.sqrt(IG) * Norm         # NIG random vector\n",
    "S_T = S0 * np.exp( (r-w)*T + X )                    # exponential dynamics\n",
    "\n",
    "call_payoff = np.maximum(S_T-K,0)\n",
    "put_payoff = np.maximum(K-S_T,0)\n",
    "call = np.exp(-r*T) * scp.mean( call_payoff )\n",
    "put = np.exp(-r*T) * scp.mean( put_payoff )\n",
    "call_err = np.exp(-r*T) * ss.sem( call_payoff )\n",
    "put_err = np.exp(-r*T) * ss.sem( put_payoff )\n",
    "print(\"Monte Carlo, call: {}, std err: {}\".format(call,call_err))\n",
    "print(\"Monte Carlo, put: {}, std_err: {}\".format(put,put_err))"
   ]
  },
  {
   "cell_type": "markdown",
   "metadata": {},
   "source": [
    "##### Fourier inversion"
   ]
  },
  {
   "cell_type": "code",
   "execution_count": 101,
   "metadata": {},
   "outputs": [
    {
     "name": "stdout",
     "output_type": "stream",
     "text": [
      "Fourier inversion call:  13.427965\n",
      "Fourier inversion put:  3.911707\n"
     ]
    }
   ],
   "source": [
    "# function binding\n",
    "cf_NIG_b = partial(cf_NIG, t=T, mu=r-w, theta=theta, sigma=sigma, kappa=kappa ) \n",
    "\n",
    "# price\n",
    "call_F = S0 * Q1(k, cf_NIG_b, np.inf) - K * np.exp(-r*T) * Q2(k, cf_NIG_b, np.inf)\n",
    "put_F = -S0 * (1-Q1(k, cf_NIG_b, np.inf)) + K * np.exp(-r*T) * (1-Q2(k, cf_NIG_b, np.inf))\n",
    "\n",
    "print(\"Fourier inversion call: \", call_F.round(6))\n",
    "print(\"Fourier inversion put: \", put_F.round(6))"
   ]
  },
  {
   "cell_type": "markdown",
   "metadata": {},
   "source": [
    "<a id='sec2'></a>\n",
    "\n",
    "# The NIG PIDE method \n",
    "\n",
    "<a id='sec2.1'></a>\n",
    "## Curiosities about the NIG Lévy measure\n",
    "\n",
    "The NIG process is a pure jump process with triplet $(b,0,\\nu)$. (For more information on the Lévy triplet see Appendix **A.3**)\n",
    "\n",
    "The expression of the drift $b$ in [2] and [3] is given for the parameters:\n",
    "\n",
    "$$ \\beta = \\frac{\\theta}{\\sigma^2}, \\quad \\quad \\alpha = \\sqrt{ \\beta^2 + \\frac{1}{\\kappa \\sigma^2} } \\quad \\quad\n",
    " \\delta = \\frac{T \\sigma}{\\sqrt{\\kappa}} $$\n",
    "\n",
    "and is:\n",
    "\n",
    "$$ b = \\frac{2 \\delta \\alpha}{\\pi} \\int_0^1 \\sinh(\\beta x) K_1(\\alpha x) dx $$\n",
    "\n",
    "The Lévy measure is:\n",
    "\n",
    "$$ \\nu(x) = \\frac{C}{|x|} e^{A x} K_1(B|x|) $$\n",
    "\n",
    "with\n",
    "\n",
    "$$ A = \\frac{\\theta}{\\sigma^2} \\quad B = \\frac{\\sqrt{\\theta^2 + \\sigma^2/\\kappa}}{\\sigma^2} \n",
    "\\quad C = \\frac{\\sqrt{\\theta^2 + \\sigma^2/\\kappa}}{\\sigma \\pi \\sqrt{\\kappa}} $$\n",
    "\n",
    "The function $K_1$ is a Bessel function of second kind with 1 degree of freedom.\n",
    "\n",
    "Let us recall from the Levy processes theory that:\n",
    "\n",
    "$$ \\mathbb{E}[X_t] = t \\biggl( b +  \\int_{|x|>1} x \\nu(dx) \\biggr)$$\n",
    "\n",
    "$$ \\text{Var}[X_t] = t \\int_{\\mathbb{R}} x^2 \\nu(dx) $$\n",
    "\n",
    "Let's verify it is correct:"
   ]
  },
  {
   "cell_type": "code",
   "execution_count": 56,
   "metadata": {},
   "outputs": [],
   "source": [
    "def NIG_measure(x):\n",
    "    A = theta/(sigma**2)\n",
    "    B = np.sqrt( theta**2 + sigma**2/kappa ) / sigma**2\n",
    "    C = np.sqrt(theta**2 + sigma**2/kappa) /(np.pi*sigma * np.sqrt(kappa))\n",
    "    return C/np.abs(x) * np.exp(A*(x)) * scps.kv(1, B*np.abs(x) )"
   ]
  },
  {
   "cell_type": "code",
   "execution_count": 57,
   "metadata": {},
   "outputs": [
    {
     "data": {
      "image/png": "[encoded data removed]",
      "text/plain": [
       "<Figure size 432x288 with 1 Axes>"
      ]
     },
     "metadata": {
      "needs_background": "light"
     },
     "output_type": "display_data"
    }
   ],
   "source": [
    "x = np.concatenate( (np.linspace(-0.1,-0.001,200), np.linspace(0.001, 0.1, 200) ))\n",
    "plt.plot(x, NIG_measure(x)); plt.title(\"NIG Lévy measure\"); plt.show()"
   ]
  },
  {
   "cell_type": "markdown",
   "metadata": {},
   "source": [
    "##### mean:"
   ]
  },
  {
   "cell_type": "code",
   "execution_count": 83,
   "metadata": {},
   "outputs": [
    {
     "name": "stdout",
     "output_type": "stream",
     "text": [
      "The theoretical mean is theta:  -0.11\n",
      "The drift component is:  -0.10992734491736127\n",
      "The mean is the sum of the drift and the integration over |x>1| i.e. :  -0.11000000000015916\n"
     ]
    }
   ],
   "source": [
    "beta = theta/(sigma**2)\n",
    "alpha = np.sqrt( beta**2 + 1/(kappa*sigma**2) )\n",
    "delta = sigma/np.sqrt(kappa)\n",
    "int_b = lambda y: 2/np.pi * delta * alpha * np.sinh(beta*y) * scps.kv(1, alpha*np.abs(y) ) \n",
    "drift = quad(int_b, 0, 1, points=0, limit=2000)[0]\n",
    "\n",
    "print(\"The theoretical mean is theta: \", theta)\n",
    "print(\"The drift component is: \", drift )\n",
    "\n",
    "mean_greater1 = quad(int_m, -10, -1, limit=2000)[0] + quad(int_m, 1, 10, limit=2000)[0]\n",
    "\n",
    "print(\"The mean is the sum of the drift and the integration over |x>1| i.e. : \", drift + mean_greater1 )"
   ]
  },
  {
   "cell_type": "markdown",
   "metadata": {},
   "source": [
    "##### variance:"
   ]
  },
  {
   "cell_type": "code",
   "execution_count": 71,
   "metadata": {},
   "outputs": [
    {
     "name": "stdout",
     "output_type": "stream",
     "text": [
      "The variance obtained from integration of Lévy mesure is:  0.04363\n",
      "The theoretical variance is:  0.04363\n"
     ]
    }
   ],
   "source": [
    "int_s = lambda y: y**2 * NIG_measure(y)\n",
    "var_int = quad(int_s, -2, 2, points=0)[0]             # I inform that the point 0 has a singularity\n",
    "var_th = dev_X**2\n",
    "print(\"The variance obtained from integration of Lévy mesure is: \", round(var_int,6))\n",
    "print(\"The theoretical variance is: \", var_th.round(7))"
   ]
  },
  {
   "cell_type": "markdown",
   "metadata": {},
   "source": [
    "##### Martingale correction:\n",
    "\n",
    "The martingale correction can be computed from the Lévy measure as well:\n",
    "\n",
    "$$ w = \\int_{\\mathbb{R} \\backslash [-\\epsilon,\\epsilon]} (e^z-1) \\nu(dz). $$\n",
    "\n",
    "we have to choose an $\\epsilon > 0$ very small, but it cannot be zero. The reason is that the NIG process has infinite variation (see **A.3** for the definition) and this means that the integral above does not converge for $\\epsilon = 0$. \n",
    "\n",
    "**Comment:**     \n",
    "For infinite variation processes we have that:\n",
    "\n",
    "$ \\int_{[-\\epsilon,\\epsilon]} (e^z-1) \\nu(dz) \\approx \\int_{[-\\epsilon,\\epsilon]} z \\nu(dz) = \\infty. $\n",
    "\n",
    "This is the main difference with the VG process, which instead has finite variation."
   ]
  },
  {
   "cell_type": "code",
   "execution_count": 99,
   "metadata": {},
   "outputs": [
    {
     "name": "stdout",
     "output_type": "stream",
     "text": [
      "Martingale correction:  -0.088817\n",
      "Martingale correction from integration:  -0.088817\n"
     ]
    }
   ],
   "source": [
    "epsilon = 0.0000001\n",
    "int_w = lambda y: (np.exp(y)-1) * NIG_measure(y)\n",
    "w2 = quad(int_w, -10, -epsilon)[0] + quad(int_w, epsilon, 10)[0]\n",
    "print(\"Martingale correction: \", w.round(6))\n",
    "print(\"Martingale correction from integration: \", round(w2,6) )"
   ]
  },
  {
   "cell_type": "markdown",
   "metadata": {},
   "source": [
    "<a id='sec2.2'></a>\n",
    "## The NIG PIDE\n",
    "\n",
    "The NIG PIDE is \n",
    "\n",
    "$$\n",
    "\\frac{\\partial V(t,x)}{\\partial t} \n",
    "          + \\biggl( r - \\int_{\\mathbb{R}} \\bigl( e^z-1-z \\mathbb{1}_{|z|<\\epsilon} \\bigr) \\nu(dz) \\biggr) \\frac{\\partial V(t,x)}{\\partial x} $$\n",
    "$$          + \\int_{\\mathbb{R}} \\bigl( V(t,x+z)- V(t,x) - z \\frac{\\partial V(t,x) }{\\partial x} \\mathbb{1}_{|z|<\\epsilon} \\bigr) \\nu(dz)  = r V(t,x).\n",
    "$$\n",
    "\n",
    "for a small value of $\\epsilon$ we can use the Brownian approximation described in **3.2** and **A.3**.      \n",
    "The jump-diffusion type PIDE is:\n",
    "\n",
    "$$\n",
    "  \\frac{\\partial V(t,x)}{\\partial t} +\n",
    " \\bigl( r-\\frac{1}{2}\\sigma_{\\epsilon}^2 - w_{\\epsilon} \\bigr) \\frac{\\partial V(t,x)}{\\partial x} \n",
    " + \\frac{1}{2}\\sigma_{\\epsilon}^2 \\frac{\\partial^2 V(t,x)}{\\partial x^2}\n",
    " + \\int_{|z| \\geq \\epsilon} V(t,x+z) \\nu(dz) = (\\lambda_{\\epsilon} + r) V(t,x).\n",
    "$$\n",
    "\n",
    "with parameters   \n",
    "\n",
    "$$\n",
    "  \\sigma_{\\epsilon}^2 :=  \\int_{|z| < \\epsilon} z^2 \\nu(dz), \\quad \\quad w_{\\epsilon} := \\int_{|z| \\geq \\epsilon} (e^z-1) \\nu(dz), \\quad \\quad\n",
    " \\lambda_{\\epsilon} :=  \\int_{|z| \\geq \\epsilon} \\nu(dz) .\n",
    "$$\n",
    "\n",
    "The previous approximated equation is identical to the VG equation.     \n",
    "I will not repeat the calculation. I will just present some numerical values and some plots.\n",
    "\n",
    "**Comment:**      \n",
    "I would like to point out that the convergence to the right price is quite slow, in particular for small values of $\\kappa$.     \n",
    "We have seen a similar behavior for the VG PIDE, but in the NIG PIDE is a bit worse.      \n",
    "The algorithm works very well for PUT options, while for CALL options it is hard to obtain good results under our grid resolution.    \n",
    "In order to improve the performances I also used a big computational domain $[A_1,A_2]$, but the improvements are still not satisfactory. \n",
    "I expect that for a higher grid resolution (in particular for more time steps), we can achieve better performances."
   ]
  },
  {
   "cell_type": "code",
   "execution_count": 1,
   "metadata": {},
   "outputs": [],
   "source": [
    "from functions.Parameters import Option_param\n",
    "from functions.Processes import NIG_process\n",
    "import functions.NIG_pricer as NIG"
   ]
  },
  {
   "cell_type": "code",
   "execution_count": 5,
   "metadata": {},
   "outputs": [],
   "source": [
    "opt_param = Option_param(S0=S0, K=K, T=T, exercise=\"European\", payoff=\"call\" )\n",
    "opt_param2 = Option_param(S0=S0, K=K, T=T, exercise=\"European\", payoff=\"put\" )\n",
    "NIG_param = NIG_process(r=r, sigma=sigma, theta=theta, kappa=kappa)\n",
    "\n",
    "NIG_c = NIG.NIG_pricer(opt_param, NIG_param)\n",
    "NIG_p = NIG.NIG_pricer(opt_param2, NIG_param)"
   ]
  },
  {
   "cell_type": "markdown",
   "metadata": {},
   "source": [
    "##### European Call"
   ]
  },
  {
   "cell_type": "code",
   "execution_count": 7,
   "metadata": {},
   "outputs": [
    {
     "data": {
      "text/plain": [
       "(13.38723669349473, 251.3608090877533)"
      ]
     },
     "execution_count": 7,
     "metadata": {},
     "output_type": "execute_result"
    }
   ],
   "source": [
    "NIG_c.PIDE_price((22000,50000), Time=True)"
   ]
  },
  {
   "cell_type": "code",
   "execution_count": 105,
   "metadata": {},
   "outputs": [
    {
     "data": {
      "image/png": "[encoded data removed]",
      "text/plain": [
       "<Figure size 432x288 with 1 Axes>"
      ]
     },
     "metadata": {
      "needs_background": "light"
     },
     "output_type": "display_data"
    }
   ],
   "source": [
    "NIG_c.plot([50,200,0,100])"
   ]
  },
  {
   "cell_type": "markdown",
   "metadata": {},
   "source": [
    "##### European Put"
   ]
  },
  {
   "cell_type": "code",
   "execution_count": 106,
   "metadata": {},
   "outputs": [
    {
     "data": {
      "text/plain": [
       "(3.9110477337157423, 152.98903918266296)"
      ]
     },
     "execution_count": 106,
     "metadata": {},
     "output_type": "execute_result"
    }
   ],
   "source": [
    "NIG_p.PIDE_price((20000,30000), Time=True)"
   ]
  },
  {
   "cell_type": "code",
   "execution_count": 107,
   "metadata": {},
   "outputs": [
    {
     "data": {
      "image/png": "[encoded data removed]",
      "text/plain": [
       "<Figure size 432x288 with 1 Axes>"
      ]
     },
     "metadata": {
      "needs_background": "light"
     },
     "output_type": "display_data"
    }
   ],
   "source": [
    "NIG_p.plot([20,150,0,80])"
   ]
  },
  {
   "cell_type": "markdown",
   "metadata": {},
   "source": [
    "##### American Put"
   ]
  },
  {
   "cell_type": "code",
   "execution_count": 109,
   "metadata": {},
   "outputs": [],
   "source": [
    "opt_param3 = Option_param(S0=S0, K=K, T=T, exercise=\"American\", payoff=\"put\" )\n",
    "NIG_am = NIG.NIG_pricer(opt_param3, NIG_param)"
   ]
  },
  {
   "cell_type": "code",
   "execution_count": 111,
   "metadata": {},
   "outputs": [
    {
     "data": {
      "text/plain": [
       "(5.06447605936324, 16.304216861724854)"
      ]
     },
     "execution_count": 111,
     "metadata": {},
     "output_type": "execute_result"
    }
   ],
   "source": [
    "NIG_am.PIDE_price((10000,10000), Time=True)"
   ]
  },
  {
   "cell_type": "code",
   "execution_count": 115,
   "metadata": {},
   "outputs": [
    {
     "data": {
      "image/png": "[encoded data removed]",
      "text/plain": [
       "<Figure size 432x288 with 1 Axes>"
      ]
     },
     "metadata": {
      "needs_background": "light"
     },
     "output_type": "display_data"
    }
   ],
   "source": [
    "NIG_am.plot([50,150,0,60])"
   ]
  },
  {
   "cell_type": "markdown",
   "metadata": {},
   "source": [
    "## References\n",
    "\n",
    "[1] Rama Cont and Peter Tankov (2003) \"Financial Modelling with Jump Processes\", Chapman and Hall/CRC; 1 edition.  \n",
    "\n",
    "[2] Rydberg Tina (1997) \"The Normal Inverse Gaussian Lévy Process:\n",
    "Simulation and Approximation\",  Communications in Statistics. Stochastic Models. 13:4, 887-910\n",
    "\n",
    "[3] Barndorff-Nielsen, Ole E. (1998) \"Processes of Normal Inverse Gaussian type\" Finance and Stochastics 2, 41-68."
   ]
  }
 ],
 "metadata": {
  "kernelspec": {
   "display_name": "Python 3",
   "language": "python",
   "name": "python3"
  },
  "language_info": {
   "codemirror_mode": {
    "name": "ipython",
    "version": 3
   },
   "file_extension": ".py",
   "mimetype": "text/x-python",
   "name": "python",
   "nbconvert_exporter": "python",
   "pygments_lexer": "ipython3",
   "version": "3.7.3"
  }
 },
 "nbformat": 4,
 "nbformat_minor": 2
}
